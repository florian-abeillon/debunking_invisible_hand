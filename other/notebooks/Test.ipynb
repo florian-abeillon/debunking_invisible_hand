{
 "cells": [
  {
   "cell_type": "code",
   "execution_count": 1,
   "id": "f4891f3f",
   "metadata": {
    "ExecuteTime": {
     "end_time": "2021-12-02T09:56:54.466433Z",
     "start_time": "2021-12-02T09:56:54.456305Z"
    }
   },
   "outputs": [],
   "source": [
    "import sys\n",
    "\n",
    "sys.path.append(\"../../code\")"
   ]
  },
  {
   "cell_type": "code",
   "execution_count": 2,
   "id": "6ebf78e4",
   "metadata": {
    "ExecuteTime": {
     "end_time": "2021-12-02T09:56:56.186824Z",
     "start_time": "2021-12-02T09:56:54.662411Z"
    }
   },
   "outputs": [],
   "source": [
    "from tqdm.notebook import tqdm\n",
    "import math\n",
    "import numpy as np\n",
    "import pandas as pd\n",
    "import seaborn as sns\n",
    "\n",
    "from agents.Buyer.constants import CURIOSITY as epsilon_buyer\n",
    "from agents.Seller.constants import CURIOSITY as epsilon_seller\n",
    "from src.constants import NB_SELLERS\n",
    "from src.simulate import get_new_agents, play_round\n",
    "from display.__init__ import plot_avg_q_table, plot_avg_sub_q_tables, plot_prices, plot_epsilon"
   ]
  },
  {
   "cell_type": "code",
   "execution_count": null,
   "id": "5dc50a4f",
   "metadata": {
    "ExecuteTime": {
     "end_time": "2021-12-02T00:03:59.712085Z",
     "start_time": "2021-12-02T00:03:54.425443Z"
    }
   },
   "outputs": [],
   "source": [
    "Verbose = False\n",
    "NB_ROUNDS = 10000\n",
    "\n",
    "sellers, buyers = get_new_agents(Verbose=Verbose)\n",
    "\n",
    "for i in tqdm(range(NB_ROUNDS)):\n",
    "    if Verbose:\n",
    "        print(f\"Round {i+1}\\n------{'-'*len(str(i+1))}\\n\")\n",
    "    sellers, buyers = play_round(sellers, buyers, Verbose=Verbose)\n",
    "    if Verbose:\n",
    "        print(\"============\\n\")"
   ]
  },
  {
   "cell_type": "markdown",
   "id": "5e70a140",
   "metadata": {},
   "source": [
    "# Seller"
   ]
  },
  {
   "cell_type": "code",
   "execution_count": null,
   "id": "cf4977a7",
   "metadata": {
    "ExecuteTime": {
     "end_time": "2021-12-02T00:03:59.727740Z",
     "start_time": "2021-12-02T00:03:59.712085Z"
    }
   },
   "outputs": [],
   "source": [
    "seller = sellers[0]"
   ]
  },
  {
   "cell_type": "code",
   "execution_count": null,
   "id": "c28791bf",
   "metadata": {
    "ExecuteTime": {
     "end_time": "2021-12-02T00:04:00.329826Z",
     "start_time": "2021-12-02T00:03:59.727740Z"
    }
   },
   "outputs": [],
   "source": [
    "seller.plot_price()"
   ]
  },
  {
   "cell_type": "code",
   "execution_count": null,
   "id": "8a44aeab",
   "metadata": {
    "ExecuteTime": {
     "end_time": "2021-12-02T00:04:00.618148Z",
     "start_time": "2021-12-02T00:04:00.329826Z"
    }
   },
   "outputs": [],
   "source": [
    "seller.plot_profit()"
   ]
  },
  {
   "cell_type": "code",
   "execution_count": null,
   "id": "f8ea5cf2",
   "metadata": {
    "ExecuteTime": {
     "end_time": "2021-12-02T00:04:01.061514Z",
     "start_time": "2021-12-02T00:04:00.618148Z"
    },
    "scrolled": false
   },
   "outputs": [],
   "source": [
    "seller.plot_history()"
   ]
  },
  {
   "cell_type": "code",
   "execution_count": null,
   "id": "9f4c7293",
   "metadata": {
    "ExecuteTime": {
     "end_time": "2021-12-02T00:04:01.544196Z",
     "start_time": "2021-12-02T00:04:01.061514Z"
    }
   },
   "outputs": [],
   "source": [
    "seller.plot_q_table()"
   ]
  },
  {
   "cell_type": "code",
   "execution_count": null,
   "id": "3e4d507d",
   "metadata": {
    "ExecuteTime": {
     "end_time": "2021-12-02T00:04:02.228491Z",
     "start_time": "2021-12-02T00:04:01.544196Z"
    }
   },
   "outputs": [],
   "source": [
    "plot_prices(sellers)"
   ]
  },
  {
   "cell_type": "code",
   "execution_count": null,
   "id": "2f2a6f87",
   "metadata": {
    "ExecuteTime": {
     "end_time": "2021-12-02T00:04:02.448143Z",
     "start_time": "2021-12-02T00:04:02.228491Z"
    }
   },
   "outputs": [],
   "source": [
    "plot_prices(sellers, avg=True)"
   ]
  },
  {
   "cell_type": "code",
   "execution_count": null,
   "id": "d73f31dc",
   "metadata": {
    "ExecuteTime": {
     "end_time": "2021-12-02T00:04:02.954996Z",
     "start_time": "2021-12-02T00:04:02.448143Z"
    }
   },
   "outputs": [],
   "source": [
    "plot_avg_q_table(sellers)"
   ]
  },
  {
   "cell_type": "code",
   "execution_count": null,
   "id": "0bd104ed",
   "metadata": {
    "ExecuteTime": {
     "end_time": "2021-12-02T00:04:02.970592Z",
     "start_time": "2021-12-02T00:04:02.954996Z"
    },
    "scrolled": true
   },
   "outputs": [],
   "source": [
    "seller.get_size_unk()"
   ]
  },
  {
   "cell_type": "code",
   "execution_count": null,
   "id": "ab921d4b",
   "metadata": {
    "ExecuteTime": {
     "end_time": "2021-12-02T00:04:04.032734Z",
     "start_time": "2021-12-02T00:04:02.976071Z"
    },
    "scrolled": true
   },
   "outputs": [],
   "source": [
    "plot_epsilon(0.1, seller.get_size_unk(), NB_ROUNDS)"
   ]
  },
  {
   "cell_type": "markdown",
   "id": "affdc119",
   "metadata": {},
   "source": [
    "# Buyer"
   ]
  },
  {
   "cell_type": "code",
   "execution_count": null,
   "id": "f9c9ca8f",
   "metadata": {
    "ExecuteTime": {
     "end_time": "2021-12-02T00:04:04.048385Z",
     "start_time": "2021-12-02T00:04:04.032734Z"
    }
   },
   "outputs": [],
   "source": [
    "buyer = buyers[0]"
   ]
  },
  {
   "cell_type": "code",
   "execution_count": null,
   "id": "6b4916c0",
   "metadata": {
    "ExecuteTime": {
     "end_time": "2021-12-02T00:04:04.063983Z",
     "start_time": "2021-12-02T00:04:04.048385Z"
    }
   },
   "outputs": [],
   "source": [
    "# buyer.plot_history()"
   ]
  },
  {
   "cell_type": "code",
   "execution_count": null,
   "id": "405eca7b",
   "metadata": {
    "ExecuteTime": {
     "end_time": "2021-12-02T00:04:04.079615Z",
     "start_time": "2021-12-02T00:04:04.063983Z"
    }
   },
   "outputs": [],
   "source": [
    "# buyer.plot_sub_q_tables()"
   ]
  },
  {
   "cell_type": "code",
   "execution_count": null,
   "id": "4e780c88",
   "metadata": {
    "ExecuteTime": {
     "end_time": "2021-12-02T00:04:37.349925Z",
     "start_time": "2021-12-02T00:04:04.079615Z"
    },
    "scrolled": true
   },
   "outputs": [],
   "source": [
    "plot_avg_sub_q_tables(buyers)"
   ]
  },
  {
   "cell_type": "code",
   "execution_count": null,
   "id": "30efc426",
   "metadata": {
    "ExecuteTime": {
     "end_time": "2021-12-02T00:04:37.365429Z",
     "start_time": "2021-12-02T00:04:37.349925Z"
    }
   },
   "outputs": [],
   "source": [
    "buyer.get_size_unk()"
   ]
  },
  {
   "cell_type": "code",
   "execution_count": null,
   "id": "d443c7a9",
   "metadata": {
    "ExecuteTime": {
     "end_time": "2021-12-02T00:04:40.467150Z",
     "start_time": "2021-12-02T00:04:37.365429Z"
    }
   },
   "outputs": [],
   "source": [
    "plot_epsilon(epsilon_buyer, buyer.get_size_unk(), math.floor(NB_ROUNDS * NB_SELLERS/2))"
   ]
  },
  {
   "cell_type": "code",
   "execution_count": null,
   "id": "43c2f699",
   "metadata": {},
   "outputs": [],
   "source": []
  },
  {
   "cell_type": "code",
   "execution_count": 4,
   "id": "ffed006c",
   "metadata": {
    "ExecuteTime": {
     "end_time": "2021-12-02T10:06:35.792408Z",
     "start_time": "2021-12-02T10:06:35.771071Z"
    }
   },
   "outputs": [
    {
     "data": {
      "text/plain": [
       "array([[[0.0, None, None, None, None, None, None, None, None, None,\n",
       "         None, None, None, None, None, None],\n",
       "        [0.0, None, None, None, None, None, None, None, None, None,\n",
       "         None, None, None, None, None, None],\n",
       "        [0.0, None, None, None, None, None, None, None, None, None,\n",
       "         None, None, None, None, None, None],\n",
       "        [0.0, None, None, None, None, None, None, None, None, None,\n",
       "         None, None, None, None, None, None],\n",
       "        [0.0, None, None, None, None, None, None, None, None, None,\n",
       "         None, None, None, None, None, None],\n",
       "        [0.0, None, None, None, None, None, None, None, None, None,\n",
       "         None, None, None, None, None, None],\n",
       "        [0.0, None, None, None, None, None, None, None, None, None,\n",
       "         None, None, None, None, None, None],\n",
       "        [0.0, None, None, None, None, None, None, None, None, None,\n",
       "         None, None, None, None, None, None],\n",
       "        [0.0, None, None, None, None, None, None, None, None, None,\n",
       "         None, None, None, None, None, None],\n",
       "        [0.0, None, None, None, None, None, None, None, None, None,\n",
       "         None, None, None, None, None, None]],\n",
       "\n",
       "       [[0.0, 0.0, None, None, None, None, None, None, None, None, None,\n",
       "         None, None, None, None, None],\n",
       "        [0.0, None, None, None, None, None, None, None, None, None,\n",
       "         None, None, None, None, None, None],\n",
       "        [0.0, None, None, None, None, None, None, None, None, None,\n",
       "         None, None, None, None, None, None],\n",
       "        [0.0, None, None, None, None, None, None, None, None, None,\n",
       "         None, None, None, None, None, None],\n",
       "        [0.0, None, None, None, None, None, None, None, None, None,\n",
       "         None, None, None, None, None, None],\n",
       "        [0.0, None, None, None, None, None, None, None, None, None,\n",
       "         None, None, None, None, None, None],\n",
       "        [0.0, None, None, None, None, None, None, None, None, None,\n",
       "         None, None, None, None, None, None],\n",
       "        [0.0, None, None, None, None, None, None, None, None, None,\n",
       "         None, None, None, None, None, None],\n",
       "        [0.0, None, None, None, None, None, None, None, None, None,\n",
       "         None, None, None, None, None, None],\n",
       "        [0.0, None, None, None, None, None, None, None, None, None,\n",
       "         None, None, None, None, None, None]],\n",
       "\n",
       "       [[0.0, 0.0, 0.0, None, None, None, None, None, None, None, None,\n",
       "         None, None, None, None, None],\n",
       "        [0.0, 0.0, None, None, None, None, None, None, None, None, None,\n",
       "         None, None, None, None, None],\n",
       "        [0.0, None, None, None, None, None, None, None, None, None,\n",
       "         None, None, None, None, None, None],\n",
       "        [0.0, None, None, None, None, None, None, None, None, None,\n",
       "         None, None, None, None, None, None],\n",
       "        [0.0, None, None, None, None, None, None, None, None, None,\n",
       "         None, None, None, None, None, None],\n",
       "        [0.0, None, None, None, None, None, None, None, None, None,\n",
       "         None, None, None, None, None, None],\n",
       "        [0.0, None, None, None, None, None, None, None, None, None,\n",
       "         None, None, None, None, None, None],\n",
       "        [0.0, None, None, None, None, None, None, None, None, None,\n",
       "         None, None, None, None, None, None],\n",
       "        [0.0, None, None, None, None, None, None, None, None, None,\n",
       "         None, None, None, None, None, None],\n",
       "        [0.0, None, None, None, None, None, None, None, None, None,\n",
       "         None, None, None, None, None, None]],\n",
       "\n",
       "       [[0.0, 0.0, 0.0, 0.0, None, None, None, None, None, None, None,\n",
       "         None, None, None, None, None],\n",
       "        [0.0, 0.0, None, None, None, None, None, None, None, None, None,\n",
       "         None, None, None, None, None],\n",
       "        [0.0, 0.0, None, None, None, None, None, None, None, None, None,\n",
       "         None, None, None, None, None],\n",
       "        [0.0, None, None, None, None, None, None, None, None, None,\n",
       "         None, None, None, None, None, None],\n",
       "        [0.0, None, None, None, None, None, None, None, None, None,\n",
       "         None, None, None, None, None, None],\n",
       "        [0.0, None, None, None, None, None, None, None, None, None,\n",
       "         None, None, None, None, None, None],\n",
       "        [0.0, None, None, None, None, None, None, None, None, None,\n",
       "         None, None, None, None, None, None],\n",
       "        [0.0, None, None, None, None, None, None, None, None, None,\n",
       "         None, None, None, None, None, None],\n",
       "        [0.0, None, None, None, None, None, None, None, None, None,\n",
       "         None, None, None, None, None, None],\n",
       "        [0.0, None, None, None, None, None, None, None, None, None,\n",
       "         None, None, None, None, None, None]],\n",
       "\n",
       "       [[0.0, 0.0, 0.0, 0.0, 0.0, None, None, None, None, None, None,\n",
       "         None, None, None, None, None],\n",
       "        [0.0, 0.0, 0.0, None, None, None, None, None, None, None, None,\n",
       "         None, None, None, None, None],\n",
       "        [0.0, 0.0, None, None, None, None, None, None, None, None, None,\n",
       "         None, None, None, None, None],\n",
       "        [0.0, 0.0, None, None, None, None, None, None, None, None, None,\n",
       "         None, None, None, None, None],\n",
       "        [0.0, None, None, None, None, None, None, None, None, None,\n",
       "         None, None, None, None, None, None],\n",
       "        [0.0, None, None, None, None, None, None, None, None, None,\n",
       "         None, None, None, None, None, None],\n",
       "        [0.0, None, None, None, None, None, None, None, None, None,\n",
       "         None, None, None, None, None, None],\n",
       "        [0.0, None, None, None, None, None, None, None, None, None,\n",
       "         None, None, None, None, None, None],\n",
       "        [0.0, None, None, None, None, None, None, None, None, None,\n",
       "         None, None, None, None, None, None],\n",
       "        [0.0, None, None, None, None, None, None, None, None, None,\n",
       "         None, None, None, None, None, None]],\n",
       "\n",
       "       [[0.0, 0.0, 0.0, 0.0, 0.0, 0.0, None, None, None, None, None,\n",
       "         None, None, None, None, None],\n",
       "        [0.0, 0.0, 0.0, None, None, None, None, None, None, None, None,\n",
       "         None, None, None, None, None],\n",
       "        [0.0, 0.0, None, None, None, None, None, None, None, None, None,\n",
       "         None, None, None, None, None],\n",
       "        [0.0, 0.0, None, None, None, None, None, None, None, None, None,\n",
       "         None, None, None, None, None],\n",
       "        [0.0, 0.0, None, None, None, None, None, None, None, None, None,\n",
       "         None, None, None, None, None],\n",
       "        [0.0, None, None, None, None, None, None, None, None, None,\n",
       "         None, None, None, None, None, None],\n",
       "        [0.0, None, None, None, None, None, None, None, None, None,\n",
       "         None, None, None, None, None, None],\n",
       "        [0.0, None, None, None, None, None, None, None, None, None,\n",
       "         None, None, None, None, None, None],\n",
       "        [0.0, None, None, None, None, None, None, None, None, None,\n",
       "         None, None, None, None, None, None],\n",
       "        [0.0, None, None, None, None, None, None, None, None, None,\n",
       "         None, None, None, None, None, None]]], dtype=object)"
      ]
     },
     "execution_count": 4,
     "metadata": {},
     "output_type": "execute_result"
    }
   ],
   "source": [
    "a"
   ]
  },
  {
   "cell_type": "code",
   "execution_count": 7,
   "id": "d465efca",
   "metadata": {
    "ExecuteTime": {
     "end_time": "2021-12-02T10:07:11.372238Z",
     "start_time": "2021-12-02T10:07:11.343599Z"
    }
   },
   "outputs": [
    {
     "data": {
      "text/plain": [
       "array([[0.0, None, None, None, None, None, None, None, None, None, None,\n",
       "        None, None, None, None, None],\n",
       "       [0.0, None, None, None, None, None, None, None, None, None, None,\n",
       "        None, None, None, None, None],\n",
       "       [0.0, None, None, None, None, None, None, None, None, None, None,\n",
       "        None, None, None, None, None],\n",
       "       [0.0, None, None, None, None, None, None, None, None, None, None,\n",
       "        None, None, None, None, None],\n",
       "       [0.0, None, None, None, None, None, None, None, None, None, None,\n",
       "        None, None, None, None, None],\n",
       "       [0.0, None, None, None, None, None, None, None, None, None, None,\n",
       "        None, None, None, None, None],\n",
       "       [0.0, None, None, None, None, None, None, None, None, None, None,\n",
       "        None, None, None, None, None],\n",
       "       [0.0, None, None, None, None, None, None, None, None, None, None,\n",
       "        None, None, None, None, None],\n",
       "       [0.0, None, None, None, None, None, None, None, None, None, None,\n",
       "        None, None, None, None, None],\n",
       "       [0.0, None, None, None, None, None, None, None, None, None, None,\n",
       "        None, None, None, None, None]], dtype=object)"
      ]
     },
     "execution_count": 7,
     "metadata": {},
     "output_type": "execute_result"
    }
   ],
   "source": [
    "a[0]"
   ]
  },
  {
   "cell_type": "code",
   "execution_count": 19,
   "id": "3b69bb35",
   "metadata": {
    "ExecuteTime": {
     "end_time": "2021-12-02T10:12:17.230105Z",
     "start_time": "2021-12-02T10:12:17.214501Z"
    }
   },
   "outputs": [
    {
     "data": {
      "text/plain": [
       "1.0"
      ]
     },
     "execution_count": 19,
     "metadata": {},
     "output_type": "execute_result"
    }
   ],
   "source": [
    "np.count_nonzero(a == 0) / np.count_nonzero(a != None)"
   ]
  },
  {
   "cell_type": "code",
   "execution_count": null,
   "id": "d7caa27c",
   "metadata": {
    "ExecuteTime": {
     "end_time": "2021-12-02T00:09:00.343621Z",
     "start_time": "2021-12-02T00:09:00.328051Z"
    },
    "scrolled": true
   },
   "outputs": [],
   "source": [
    "q_table = buyer.get_q_table()\n",
    "q_table"
   ]
  },
  {
   "cell_type": "code",
   "execution_count": null,
   "id": "807cadbd",
   "metadata": {
    "ExecuteTime": {
     "end_time": "2021-12-02T00:12:09.731186Z",
     "start_time": "2021-12-02T00:12:09.590043Z"
    }
   },
   "outputs": [],
   "source": [
    "budget = buyer.budget\n",
    "sns.lineplot(range(101), np.max(q_table[budget], axis=0))"
   ]
  },
  {
   "cell_type": "code",
   "execution_count": null,
   "id": "621810f3",
   "metadata": {
    "ExecuteTime": {
     "end_time": "2021-12-02T00:11:06.967179Z",
     "start_time": "2021-12-02T00:11:06.951551Z"
    }
   },
   "outputs": [],
   "source": [
    "np.max(q_table[budget], axis=0)"
   ]
  },
  {
   "cell_type": "code",
   "execution_count": null,
   "id": "6c5e9ee3",
   "metadata": {},
   "outputs": [],
   "source": []
  }
 ],
 "metadata": {
  "kernelspec": {
   "display_name": "Python 3 (ipykernel)",
   "language": "python",
   "name": "python3"
  },
  "language_info": {
   "codemirror_mode": {
    "name": "ipython",
    "version": 3
   },
   "file_extension": ".py",
   "mimetype": "text/x-python",
   "name": "python",
   "nbconvert_exporter": "python",
   "pygments_lexer": "ipython3",
   "version": "3.8.8"
  },
  "varInspector": {
   "cols": {
    "lenName": 16,
    "lenType": 16,
    "lenVar": 40
   },
   "kernels_config": {
    "python": {
     "delete_cmd_postfix": "",
     "delete_cmd_prefix": "del ",
     "library": "var_list.py",
     "varRefreshCmd": "print(var_dic_list())"
    },
    "r": {
     "delete_cmd_postfix": ") ",
     "delete_cmd_prefix": "rm(",
     "library": "var_list.r",
     "varRefreshCmd": "cat(var_dic_list()) "
    }
   },
   "types_to_exclude": [
    "module",
    "function",
    "builtin_function_or_method",
    "instance",
    "_Feature"
   ],
   "window_display": true
  }
 },
 "nbformat": 4,
 "nbformat_minor": 5
}
