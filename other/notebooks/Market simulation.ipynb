{
 "cells": [
  {
   "cell_type": "code",
   "execution_count": 1,
   "id": "f370bc4a",
   "metadata": {
    "ExecuteTime": {
     "end_time": "2021-11-28T14:08:18.620357Z",
     "start_time": "2021-11-28T14:08:17.904479Z"
    }
   },
   "outputs": [],
   "source": [
    "import math\n",
    "import pandas as pd\n",
    "import random as rd\n",
    "\n",
    "from tqdm.notebook import tqdm"
   ]
  },
  {
   "cell_type": "markdown",
   "id": "da9b6d52",
   "metadata": {},
   "source": [
    "## Simple maximization"
   ]
  },
  {
   "cell_type": "code",
   "execution_count": null,
   "id": "6897ece2",
   "metadata": {
    "ExecuteTime": {
     "end_time": "2021-11-28T14:08:03.849557Z",
     "start_time": "2021-11-28T14:08:03.821574Z"
    }
   },
   "outputs": [],
   "source": [
    "class Agent:\n",
    "    def __init__(self, id, role: str, price: int):\n",
    "        self.id = id\n",
    "        self.role: str = role\n",
    "        self.price: int = price\n",
    "        self.utility: int = 0 # price if role == 'buyer' else -price\n",
    "            \n",
    "    def sell(self, price: int):\n",
    "        assert self.role == 'seller', f\"Agent {self.id} is a buyer but was trying to sell!\"\n",
    "        self.utility += price - self.price\n",
    "        self.role = 'buyer'\n",
    "        self.price = price\n",
    "            \n",
    "    def buy(self, price: int):\n",
    "        assert self.role == 'buyer', f\"Agent {self.id} is a seller but was trying to buy!\"\n",
    "        self.utility += self.price - price\n",
    "        self.role = 'seller'\n",
    "        self.price = price"
   ]
  },
  {
   "cell_type": "code",
   "execution_count": null,
   "id": "208a2b78",
   "metadata": {
    "ExecuteTime": {
     "end_time": "2021-11-28T14:08:03.899756Z",
     "start_time": "2021-11-28T14:08:03.854919Z"
    }
   },
   "outputs": [],
   "source": [
    "NB_AGENTS = 100\n",
    "\n",
    "NB_SELLERS = math.floor(rd.random() * NB_AGENTS)\n",
    "NB_SELLERS = min(NB_AGENTS - 1, max(1, NB_SELLERS))   # To ensure there are at least one seller/buyer\n",
    "NB_BUYERS = NB_AGENTS - NB_SELLERS\n",
    "\n",
    "NB_SELLERS, NB_BUYERS"
   ]
  },
  {
   "cell_type": "code",
   "execution_count": null,
   "id": "395866d0",
   "metadata": {
    "ExecuteTime": {
     "end_time": "2021-11-28T14:08:03.930972Z",
     "start_time": "2021-11-28T14:08:03.908916Z"
    }
   },
   "outputs": [],
   "source": [
    "sellers, buyers = None, None\n",
    "utility_hist, price_hist = None, None"
   ]
  },
  {
   "cell_type": "code",
   "execution_count": null,
   "id": "1127f944",
   "metadata": {
    "ExecuteTime": {
     "end_time": "2021-11-28T14:08:03.962430Z",
     "start_time": "2021-11-28T14:08:03.936326Z"
    }
   },
   "outputs": [],
   "source": [
    "def reset_agents():\n",
    "    global sellers, buyers\n",
    "    \n",
    "    sellers = [ \n",
    "        Agent(\n",
    "            id=i,\n",
    "            role='seller', \n",
    "            price=rd.randint(1, 100)\n",
    "        )\n",
    "        for i in range(NB_SELLERS) \n",
    "    ]\n",
    "    buyers = [ \n",
    "        Agent(\n",
    "            id=i + NB_SELLERS,\n",
    "            role='buyer', \n",
    "            price=rd.randint(1, 100)\n",
    "        )\n",
    "        for i in range(NB_BUYERS) \n",
    "    ]"
   ]
  },
  {
   "cell_type": "code",
   "execution_count": null,
   "id": "0ba71fd1",
   "metadata": {
    "ExecuteTime": {
     "end_time": "2021-11-28T14:08:03.994363Z",
     "start_time": "2021-11-28T14:08:03.968285Z"
    }
   },
   "outputs": [],
   "source": [
    "def write_history():\n",
    "    global utility_hist, price_hist\n",
    "    utility, price = {}, {}\n",
    "    \n",
    "    for agent in sellers + buyers:\n",
    "        utility[agent.id] = agent.utility\n",
    "        price[agent.id] = agent.price\n",
    "        \n",
    "    utility_hist = utility_hist.append(utility, ignore_index=True)\n",
    "    price_hist = price_hist.append(price, ignore_index=True)\n",
    "    \n",
    "\n",
    "def reset_history():\n",
    "    global utility_hist, price_hist\n",
    "    utility_hist = pd.DataFrame(columns=range(NB_AGENTS))\n",
    "    price_hist = pd.DataFrame(columns=range(NB_AGENTS))\n",
    "    write_history()\n",
    "    \n",
    "    \n",
    "def display_history():\n",
    "    global utility_hist, price_hist\n",
    "    utility_hist[~(utility_hist == utility_hist.iloc[0]).all()].plot()\n",
    "    price_hist[~(price_hist == price_hist.iloc[0]).all()].plot()"
   ]
  },
  {
   "cell_type": "code",
   "execution_count": null,
   "id": "0d36c050",
   "metadata": {
    "ExecuteTime": {
     "end_time": "2021-11-28T14:08:04.033093Z",
     "start_time": "2021-11-28T14:08:03.999444Z"
    }
   },
   "outputs": [],
   "source": [
    "def play_round(sellers: list, buyers: list, Verbose: bool = True):\n",
    "    \n",
    "    # Buyers go to cheapest sellers first\n",
    "    sellers = sorted(sellers, key=lambda seller: seller.price)\n",
    "    buyers = rd.sample(buyers, k=len(buyers))\n",
    "    sellers_new, buyers_new = [], []\n",
    "\n",
    "    for i, buyer in enumerate(buyers):   # Try other ways to prioritize   \n",
    "        if Verbose:\n",
    "            print(f\"Agent {buyer.id} buying at price {buyer.price}\")\n",
    "            \n",
    "        seller = sellers[0]\n",
    "        if seller.price > buyer.price:\n",
    "            if Verbose:\n",
    "                print(\"No deal\")\n",
    "            continue\n",
    "            \n",
    "        price = rd.randint(seller.price, buyer.price)\n",
    "        if Verbose:\n",
    "            print(f\"Agent {seller.id} selling at price {seller.price} accepted to sell at price {price}\")\n",
    "        seller.sell(price), buyer.buy(price)\n",
    "        \n",
    "        sellers_new.append(i)\n",
    "        buyers_new.append(sellers.pop(0))\n",
    "        \n",
    "    sellers += [ buyers.pop(i) for i in reversed(sellers_new) ]\n",
    "    buyers += buyers_new\n",
    "    return sellers, buyers"
   ]
  },
  {
   "cell_type": "code",
   "execution_count": null,
   "id": "a25c081c",
   "metadata": {},
   "outputs": [],
   "source": []
  },
  {
   "cell_type": "code",
   "execution_count": null,
   "id": "a080e510",
   "metadata": {
    "ExecuteTime": {
     "start_time": "2021-11-28T14:08:03.353Z"
    }
   },
   "outputs": [],
   "source": [
    "reset_agents()\n",
    "reset_history()\n",
    "\n",
    "for i in range(10):\n",
    "    sellers, buyers = play_round(sellers, buyers, Verbose=False)\n",
    "    write_history()\n",
    "    \n",
    "display_history()"
   ]
  },
  {
   "cell_type": "code",
   "execution_count": null,
   "id": "fe6c6e03",
   "metadata": {},
   "outputs": [],
   "source": []
  },
  {
   "cell_type": "code",
   "execution_count": null,
   "id": "2a23e48d",
   "metadata": {},
   "outputs": [],
   "source": []
  },
  {
   "cell_type": "code",
   "execution_count": null,
   "id": "18b17ddd",
   "metadata": {},
   "outputs": [],
   "source": []
  },
  {
   "cell_type": "markdown",
   "id": "cbf398d0",
   "metadata": {},
   "source": [
    "## Reinforcement Learning"
   ]
  },
  {
   "cell_type": "code",
   "execution_count": 2,
   "id": "ed037cb0",
   "metadata": {
    "ExecuteTime": {
     "end_time": "2021-11-28T14:08:21.687470Z",
     "start_time": "2021-11-28T14:08:21.666882Z"
    }
   },
   "outputs": [],
   "source": [
    "sellers, buyers = None, None"
   ]
  },
  {
   "cell_type": "code",
   "execution_count": 9,
   "id": "b92fc7ab",
   "metadata": {
    "ExecuteTime": {
     "end_time": "2021-11-28T14:09:00.298501Z",
     "start_time": "2021-11-28T14:09:00.287401Z"
    }
   },
   "outputs": [],
   "source": [
    "PRICE_MIN,PRICE_MAX = 0, 100\n",
    "NB_SELLERS, NB_BUYERS = 5, 5\n",
    "\n",
    "ALPHA_SELLER, ALPHA_BUYER = 0.5, 0.5\n",
    "GAMMA_SELLER, GAMMA_BUYER = 0.2, 0.2"
   ]
  },
  {
   "cell_type": "code",
   "execution_count": 10,
   "id": "75f59515",
   "metadata": {
    "ExecuteTime": {
     "end_time": "2021-11-28T14:09:00.814816Z",
     "start_time": "2021-11-28T14:09:00.782842Z"
    }
   },
   "outputs": [],
   "source": [
    "class Seller:\n",
    "    def __init__(self, id, \n",
    "                 price_min: int, \n",
    "                 alpha: float = ALPHA_SELLER, \n",
    "                 gamma: float = GAMMA_SELLER, \n",
    "                 stochastic: bool = False):\n",
    "        self.id = id\n",
    "        self.alpha, self.gamma = alpha, gamma\n",
    "        \n",
    "        self.price_min = price_min\n",
    "        if stochastic:\n",
    "            price_min = rd.gauss(price_min, (PRICE_MAX - PRICE_MIN) / 100)\n",
    "            self.price_min = max(PRICE_MIN, floor(price_min))\n",
    "        self.price = rd.randint(self.price_min, PRICE_MAX)\n",
    "        \n",
    "        self.sold: bool = False\n",
    "        self.profit = 0\n",
    "        \n",
    "        self.q_table: pd.Series = pd.Series(\n",
    "            index=range(PRICE_MIN, PRICE_MAX+1), \n",
    "            dtype=int\n",
    "        ).fillna(0)\n",
    "        self.history: list = []\n",
    "            \n",
    "            \n",
    "    def get_price(self):\n",
    "        return self.price\n",
    "            \n",
    "    def get_history(self):\n",
    "        return self.history\n",
    "        \n",
    "    \n",
    "    def sell(self):\n",
    "        self.sold = True\n",
    "            \n",
    "    def step(self):\n",
    "        self.q_table[self.price] *= 1 - self.alpha\n",
    "        reward = - self.price_min \n",
    "        if self.sold:\n",
    "            reward += self.price\n",
    "            self.history.append(self.price)\n",
    "        else:\n",
    "            self.history.append(None)\n",
    "        self.q_table[self.price] += self.alpha * reward   # + self.alpha * self.gamma * self.q_table.max()\n",
    "        \n",
    "        self.profit += reward\n",
    "        self.price = rd.choices(list(self.q_table.index), weights=self.q_table.values)[0]\n",
    "        self.sold = False"
   ]
  },
  {
   "cell_type": "code",
   "execution_count": 17,
   "id": "33a89a43",
   "metadata": {
    "ExecuteTime": {
     "end_time": "2021-11-28T14:09:11.740626Z",
     "start_time": "2021-11-28T14:09:11.720488Z"
    }
   },
   "outputs": [],
   "source": [
    "class Buyer:\n",
    "    def __init__(self, id, \n",
    "                 budget: int, \n",
    "                 alpha: float = ALPHA_BUYER, \n",
    "                 gamma: float = GAMMA_BUYER, \n",
    "                 stochastic: bool = False):\n",
    "        self.id = id\n",
    "        self.alpha, self.gamma = alpha, gamma\n",
    "        \n",
    "        self.budget = budget\n",
    "        if stochastic:\n",
    "            budget = rd.gauss(budget, (PRICE_MAX - PRICE_MIN) / 100)\n",
    "            self.budget = min(PRICE_MAX, floor(budget))\n",
    "        \n",
    "        self.buy_price: int = -1\n",
    "        self.surplus = 0\n",
    "        \n",
    "        self.q_table: pd.DataFrame = pd.DataFrame(\n",
    "            index=range(PRICE_MIN, PRICE_MAX+1), \n",
    "            columns=['take', 'leave'], \n",
    "            dtype=int\n",
    "        ).fillna(0)\n",
    "        \n",
    "    \n",
    "    def buy(self, price: int) -> bool:\n",
    "        if self.q_table.loc[price, 'take'] >= self.q_table.loc[price, 'leave']:\n",
    "            self.buy_price = price\n",
    "            return True\n",
    "        return False\n",
    "            \n",
    "    def step(self):\n",
    "        if self.buy_price != -1:\n",
    "            self.q_table.loc[self.buy_price, 'take'] *= 1 - self.alpha\n",
    "            reward = self.budget - self.buy_price \n",
    "            self.q_table.loc[self.buy_price, 'take'] += self.alpha * reward   # + self.alpha * self.gamma * self.q_table.max()\n",
    "            self.surplus += reward\n",
    "            self.buy_price = -1"
   ]
  },
  {
   "cell_type": "code",
   "execution_count": 18,
   "id": "4200aeb5",
   "metadata": {
    "ExecuteTime": {
     "end_time": "2021-11-28T14:09:11.968462Z",
     "start_time": "2021-11-28T14:09:11.958715Z"
    }
   },
   "outputs": [],
   "source": [
    "def reset_agents():\n",
    "    global sellers, buyers\n",
    "    \n",
    "    sellers = [ \n",
    "        Seller(\n",
    "            id=i,\n",
    "            price_min=30\n",
    "        )\n",
    "        for i in range(NB_SELLERS) \n",
    "    ]\n",
    "    buyers = [ \n",
    "        Buyer(\n",
    "            id=i,\n",
    "            budget=70\n",
    "        )\n",
    "        for i in range(NB_BUYERS) \n",
    "    ]"
   ]
  },
  {
   "cell_type": "code",
   "execution_count": 19,
   "id": "1ae9b8c6",
   "metadata": {
    "ExecuteTime": {
     "end_time": "2021-11-28T14:09:12.125611Z",
     "start_time": "2021-11-28T14:09:12.099210Z"
    }
   },
   "outputs": [],
   "source": [
    "reset_agents()"
   ]
  },
  {
   "cell_type": "code",
   "execution_count": 20,
   "id": "e7fee54f",
   "metadata": {
    "ExecuteTime": {
     "end_time": "2021-11-28T14:09:12.157909Z",
     "start_time": "2021-11-28T14:09:12.137458Z"
    }
   },
   "outputs": [],
   "source": [
    "def play_round(sellers: list, buyers: list, Verbose: bool = True):\n",
    "    \n",
    "    rd.shuffle(sellers), rd.shuffle(buyers)\n",
    "\n",
    "    for seller, buyer in zip(sellers, buyers): \n",
    "        seller = sellers[0]            \n",
    "        price = seller.get_price()\n",
    "        if Verbose:\n",
    "            print(f\"Seller {seller.id} selling at price {price} to Buyer {buyer.id}\")\n",
    "            \n",
    "        bought = buyer.buy(price)\n",
    "        if bought:\n",
    "            seller.sell()\n",
    "            if Verbose:\n",
    "                print(f\"Buyer {buyer.id} accepted to buy!\")\n",
    "            \n",
    "        seller.step(), buyer.step()\n",
    "        \n",
    "    return sellers, buyers"
   ]
  },
  {
   "cell_type": "code",
   "execution_count": 21,
   "id": "d26455bc",
   "metadata": {
    "ExecuteTime": {
     "end_time": "2021-11-28T14:09:12.743953Z",
     "start_time": "2021-11-28T14:09:12.720715Z"
    }
   },
   "outputs": [],
   "source": [
    "def display_history(sellers: list):\n",
    "    history = pd.DataFrame({\n",
    "        seller.id: seller.get_history()\n",
    "        for seller in sellers\n",
    "    })\n",
    "    history.plot()"
   ]
  },
  {
   "cell_type": "code",
   "execution_count": 22,
   "id": "a1bcf041",
   "metadata": {
    "ExecuteTime": {
     "end_time": "2021-11-28T14:09:13.935452Z",
     "start_time": "2021-11-28T14:09:13.294567Z"
    }
   },
   "outputs": [
    {
     "data": {
      "application/vnd.jupyter.widget-view+json": {
       "model_id": "4727243ae5834a06a65b5f0b2b5c6eef",
       "version_major": 2,
       "version_minor": 0
      },
      "text/plain": [
       "  0%|          | 0/100 [00:00<?, ?it/s]"
      ]
     },
     "metadata": {},
     "output_type": "display_data"
    },
    {
     "ename": "ValueError",
     "evalue": "All arrays must be of the same length",
     "output_type": "error",
     "traceback": [
      "\u001b[1;31m---------------------------------------------------------------------------\u001b[0m",
      "\u001b[1;31mValueError\u001b[0m                                Traceback (most recent call last)",
      "\u001b[1;32m~\\AppData\\Local\\Temp/ipykernel_500/2341495940.py\u001b[0m in \u001b[0;36m<module>\u001b[1;34m\u001b[0m\n\u001b[0;32m      2\u001b[0m     \u001b[0msellers\u001b[0m\u001b[1;33m,\u001b[0m \u001b[0mbuyers\u001b[0m \u001b[1;33m=\u001b[0m \u001b[0mplay_round\u001b[0m\u001b[1;33m(\u001b[0m\u001b[0msellers\u001b[0m\u001b[1;33m,\u001b[0m \u001b[0mbuyers\u001b[0m\u001b[1;33m,\u001b[0m \u001b[0mVerbose\u001b[0m\u001b[1;33m=\u001b[0m\u001b[1;32mFalse\u001b[0m\u001b[1;33m)\u001b[0m\u001b[1;33m\u001b[0m\u001b[1;33m\u001b[0m\u001b[0m\n\u001b[0;32m      3\u001b[0m \u001b[1;33m\u001b[0m\u001b[0m\n\u001b[1;32m----> 4\u001b[1;33m \u001b[0mdisplay_history\u001b[0m\u001b[1;33m(\u001b[0m\u001b[0msellers\u001b[0m\u001b[1;33m)\u001b[0m\u001b[1;33m\u001b[0m\u001b[1;33m\u001b[0m\u001b[0m\n\u001b[0m",
      "\u001b[1;32m~\\AppData\\Local\\Temp/ipykernel_500/2297186861.py\u001b[0m in \u001b[0;36mdisplay_history\u001b[1;34m(sellers)\u001b[0m\n\u001b[0;32m      1\u001b[0m \u001b[1;32mdef\u001b[0m \u001b[0mdisplay_history\u001b[0m\u001b[1;33m(\u001b[0m\u001b[0msellers\u001b[0m\u001b[1;33m:\u001b[0m \u001b[0mlist\u001b[0m\u001b[1;33m)\u001b[0m\u001b[1;33m:\u001b[0m\u001b[1;33m\u001b[0m\u001b[1;33m\u001b[0m\u001b[0m\n\u001b[1;32m----> 2\u001b[1;33m     history = pd.DataFrame({\n\u001b[0m\u001b[0;32m      3\u001b[0m         \u001b[0mseller\u001b[0m\u001b[1;33m.\u001b[0m\u001b[0mid\u001b[0m\u001b[1;33m:\u001b[0m \u001b[0mseller\u001b[0m\u001b[1;33m.\u001b[0m\u001b[0mget_history\u001b[0m\u001b[1;33m(\u001b[0m\u001b[1;33m)\u001b[0m\u001b[1;33m\u001b[0m\u001b[1;33m\u001b[0m\u001b[0m\n\u001b[0;32m      4\u001b[0m         \u001b[1;32mfor\u001b[0m \u001b[0mseller\u001b[0m \u001b[1;32min\u001b[0m \u001b[0msellers\u001b[0m\u001b[1;33m\u001b[0m\u001b[1;33m\u001b[0m\u001b[0m\n\u001b[0;32m      5\u001b[0m     })\n",
      "\u001b[1;32m~\\anaconda3\\lib\\site-packages\\pandas\\core\\frame.py\u001b[0m in \u001b[0;36m__init__\u001b[1;34m(self, data, index, columns, dtype, copy)\u001b[0m\n\u001b[0;32m    612\u001b[0m         \u001b[1;32melif\u001b[0m \u001b[0misinstance\u001b[0m\u001b[1;33m(\u001b[0m\u001b[0mdata\u001b[0m\u001b[1;33m,\u001b[0m \u001b[0mdict\u001b[0m\u001b[1;33m)\u001b[0m\u001b[1;33m:\u001b[0m\u001b[1;33m\u001b[0m\u001b[1;33m\u001b[0m\u001b[0m\n\u001b[0;32m    613\u001b[0m             \u001b[1;31m# GH#38939 de facto copy defaults to False only in non-dict cases\u001b[0m\u001b[1;33m\u001b[0m\u001b[1;33m\u001b[0m\u001b[1;33m\u001b[0m\u001b[0m\n\u001b[1;32m--> 614\u001b[1;33m             \u001b[0mmgr\u001b[0m \u001b[1;33m=\u001b[0m \u001b[0mdict_to_mgr\u001b[0m\u001b[1;33m(\u001b[0m\u001b[0mdata\u001b[0m\u001b[1;33m,\u001b[0m \u001b[0mindex\u001b[0m\u001b[1;33m,\u001b[0m \u001b[0mcolumns\u001b[0m\u001b[1;33m,\u001b[0m \u001b[0mdtype\u001b[0m\u001b[1;33m=\u001b[0m\u001b[0mdtype\u001b[0m\u001b[1;33m,\u001b[0m \u001b[0mcopy\u001b[0m\u001b[1;33m=\u001b[0m\u001b[0mcopy\u001b[0m\u001b[1;33m,\u001b[0m \u001b[0mtyp\u001b[0m\u001b[1;33m=\u001b[0m\u001b[0mmanager\u001b[0m\u001b[1;33m)\u001b[0m\u001b[1;33m\u001b[0m\u001b[1;33m\u001b[0m\u001b[0m\n\u001b[0m\u001b[0;32m    615\u001b[0m         \u001b[1;32melif\u001b[0m \u001b[0misinstance\u001b[0m\u001b[1;33m(\u001b[0m\u001b[0mdata\u001b[0m\u001b[1;33m,\u001b[0m \u001b[0mma\u001b[0m\u001b[1;33m.\u001b[0m\u001b[0mMaskedArray\u001b[0m\u001b[1;33m)\u001b[0m\u001b[1;33m:\u001b[0m\u001b[1;33m\u001b[0m\u001b[1;33m\u001b[0m\u001b[0m\n\u001b[0;32m    616\u001b[0m             \u001b[1;32mimport\u001b[0m \u001b[0mnumpy\u001b[0m\u001b[1;33m.\u001b[0m\u001b[0mma\u001b[0m\u001b[1;33m.\u001b[0m\u001b[0mmrecords\u001b[0m \u001b[1;32mas\u001b[0m \u001b[0mmrecords\u001b[0m\u001b[1;33m\u001b[0m\u001b[1;33m\u001b[0m\u001b[0m\n",
      "\u001b[1;32m~\\anaconda3\\lib\\site-packages\\pandas\\core\\internals\\construction.py\u001b[0m in \u001b[0;36mdict_to_mgr\u001b[1;34m(data, index, columns, dtype, typ, copy)\u001b[0m\n\u001b[0;32m    462\u001b[0m         \u001b[1;31m# TODO: can we get rid of the dt64tz special case above?\u001b[0m\u001b[1;33m\u001b[0m\u001b[1;33m\u001b[0m\u001b[1;33m\u001b[0m\u001b[0m\n\u001b[0;32m    463\u001b[0m \u001b[1;33m\u001b[0m\u001b[0m\n\u001b[1;32m--> 464\u001b[1;33m     return arrays_to_mgr(\n\u001b[0m\u001b[0;32m    465\u001b[0m         \u001b[0marrays\u001b[0m\u001b[1;33m,\u001b[0m \u001b[0mdata_names\u001b[0m\u001b[1;33m,\u001b[0m \u001b[0mindex\u001b[0m\u001b[1;33m,\u001b[0m \u001b[0mcolumns\u001b[0m\u001b[1;33m,\u001b[0m \u001b[0mdtype\u001b[0m\u001b[1;33m=\u001b[0m\u001b[0mdtype\u001b[0m\u001b[1;33m,\u001b[0m \u001b[0mtyp\u001b[0m\u001b[1;33m=\u001b[0m\u001b[0mtyp\u001b[0m\u001b[1;33m,\u001b[0m \u001b[0mconsolidate\u001b[0m\u001b[1;33m=\u001b[0m\u001b[0mcopy\u001b[0m\u001b[1;33m\u001b[0m\u001b[1;33m\u001b[0m\u001b[0m\n\u001b[0;32m    466\u001b[0m     )\n",
      "\u001b[1;32m~\\anaconda3\\lib\\site-packages\\pandas\\core\\internals\\construction.py\u001b[0m in \u001b[0;36marrays_to_mgr\u001b[1;34m(arrays, arr_names, index, columns, dtype, verify_integrity, typ, consolidate)\u001b[0m\n\u001b[0;32m    117\u001b[0m         \u001b[1;31m# figure out the index, if necessary\u001b[0m\u001b[1;33m\u001b[0m\u001b[1;33m\u001b[0m\u001b[1;33m\u001b[0m\u001b[0m\n\u001b[0;32m    118\u001b[0m         \u001b[1;32mif\u001b[0m \u001b[0mindex\u001b[0m \u001b[1;32mis\u001b[0m \u001b[1;32mNone\u001b[0m\u001b[1;33m:\u001b[0m\u001b[1;33m\u001b[0m\u001b[1;33m\u001b[0m\u001b[0m\n\u001b[1;32m--> 119\u001b[1;33m             \u001b[0mindex\u001b[0m \u001b[1;33m=\u001b[0m \u001b[0m_extract_index\u001b[0m\u001b[1;33m(\u001b[0m\u001b[0marrays\u001b[0m\u001b[1;33m)\u001b[0m\u001b[1;33m\u001b[0m\u001b[1;33m\u001b[0m\u001b[0m\n\u001b[0m\u001b[0;32m    120\u001b[0m         \u001b[1;32melse\u001b[0m\u001b[1;33m:\u001b[0m\u001b[1;33m\u001b[0m\u001b[1;33m\u001b[0m\u001b[0m\n\u001b[0;32m    121\u001b[0m             \u001b[0mindex\u001b[0m \u001b[1;33m=\u001b[0m \u001b[0mensure_index\u001b[0m\u001b[1;33m(\u001b[0m\u001b[0mindex\u001b[0m\u001b[1;33m)\u001b[0m\u001b[1;33m\u001b[0m\u001b[1;33m\u001b[0m\u001b[0m\n",
      "\u001b[1;32m~\\anaconda3\\lib\\site-packages\\pandas\\core\\internals\\construction.py\u001b[0m in \u001b[0;36m_extract_index\u001b[1;34m(data)\u001b[0m\n\u001b[0;32m    633\u001b[0m             \u001b[0mlengths\u001b[0m \u001b[1;33m=\u001b[0m \u001b[0mlist\u001b[0m\u001b[1;33m(\u001b[0m\u001b[0mset\u001b[0m\u001b[1;33m(\u001b[0m\u001b[0mraw_lengths\u001b[0m\u001b[1;33m)\u001b[0m\u001b[1;33m)\u001b[0m\u001b[1;33m\u001b[0m\u001b[1;33m\u001b[0m\u001b[0m\n\u001b[0;32m    634\u001b[0m             \u001b[1;32mif\u001b[0m \u001b[0mlen\u001b[0m\u001b[1;33m(\u001b[0m\u001b[0mlengths\u001b[0m\u001b[1;33m)\u001b[0m \u001b[1;33m>\u001b[0m \u001b[1;36m1\u001b[0m\u001b[1;33m:\u001b[0m\u001b[1;33m\u001b[0m\u001b[1;33m\u001b[0m\u001b[0m\n\u001b[1;32m--> 635\u001b[1;33m                 \u001b[1;32mraise\u001b[0m \u001b[0mValueError\u001b[0m\u001b[1;33m(\u001b[0m\u001b[1;34m\"All arrays must be of the same length\"\u001b[0m\u001b[1;33m)\u001b[0m\u001b[1;33m\u001b[0m\u001b[1;33m\u001b[0m\u001b[0m\n\u001b[0m\u001b[0;32m    636\u001b[0m \u001b[1;33m\u001b[0m\u001b[0m\n\u001b[0;32m    637\u001b[0m             \u001b[1;32mif\u001b[0m \u001b[0mhave_dicts\u001b[0m\u001b[1;33m:\u001b[0m\u001b[1;33m\u001b[0m\u001b[1;33m\u001b[0m\u001b[0m\n",
      "\u001b[1;31mValueError\u001b[0m: All arrays must be of the same length"
     ]
    }
   ],
   "source": [
    "for _ in tqdm(range(100)):\n",
    "    sellers, buyers = play_round(sellers, buyers, Verbose=False)\n",
    "    \n",
    "display_history(sellers)"
   ]
  },
  {
   "cell_type": "code",
   "execution_count": null,
   "id": "f237691e",
   "metadata": {
    "ExecuteTime": {
     "end_time": "2021-11-28T14:05:42.195171Z",
     "start_time": "2021-11-28T14:05:42.180762Z"
    }
   },
   "outputs": [],
   "source": [
    "len(sellers[0].history)"
   ]
  },
  {
   "cell_type": "code",
   "execution_count": null,
   "id": "6664f461",
   "metadata": {
    "ExecuteTime": {
     "end_time": "2021-11-28T13:37:30.429171Z",
     "start_time": "2021-11-28T13:37:30.429171Z"
    }
   },
   "outputs": [],
   "source": [
    "display_history(sellers)"
   ]
  },
  {
   "cell_type": "code",
   "execution_count": null,
   "id": "b4e73041",
   "metadata": {},
   "outputs": [],
   "source": [
    " "
   ]
  }
 ],
 "metadata": {
  "kernelspec": {
   "display_name": "Python 3 (ipykernel)",
   "language": "python",
   "name": "python3"
  },
  "language_info": {
   "codemirror_mode": {
    "name": "ipython",
    "version": 3
   },
   "file_extension": ".py",
   "mimetype": "text/x-python",
   "name": "python",
   "nbconvert_exporter": "python",
   "pygments_lexer": "ipython3",
   "version": "3.8.8"
  },
  "varInspector": {
   "cols": {
    "lenName": 16,
    "lenType": 16,
    "lenVar": 40
   },
   "kernels_config": {
    "python": {
     "delete_cmd_postfix": "",
     "delete_cmd_prefix": "del ",
     "library": "var_list.py",
     "varRefreshCmd": "print(var_dic_list())"
    },
    "r": {
     "delete_cmd_postfix": ") ",
     "delete_cmd_prefix": "rm(",
     "library": "var_list.r",
     "varRefreshCmd": "cat(var_dic_list()) "
    }
   },
   "types_to_exclude": [
    "module",
    "function",
    "builtin_function_or_method",
    "instance",
    "_Feature"
   ],
   "window_display": true
  }
 },
 "nbformat": 4,
 "nbformat_minor": 5
}
