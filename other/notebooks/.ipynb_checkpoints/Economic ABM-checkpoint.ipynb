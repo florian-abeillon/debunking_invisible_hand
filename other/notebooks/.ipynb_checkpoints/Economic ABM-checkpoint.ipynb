{
 "cells": [
  {
   "cell_type": "markdown",
   "id": "e48eba56",
   "metadata": {},
   "source": [
    "# Prelims"
   ]
  },
  {
   "cell_type": "code",
   "execution_count": 1,
   "id": "f370bc4a",
   "metadata": {
    "ExecuteTime": {
     "end_time": "2021-11-29T12:32:12.703081Z",
     "start_time": "2021-11-29T12:32:12.180350Z"
    }
   },
   "outputs": [],
   "source": [
    "import math\n",
    "import pandas as pd\n",
    "import random as rd\n",
    "\n",
    "from tqdm.notebook import tqdm\n",
    "from typing import List, Tuple, Union\n",
    "from uuid import uuid4"
   ]
  },
  {
   "cell_type": "markdown",
   "id": "12d860c0",
   "metadata": {},
   "source": [
    "# Parameters"
   ]
  },
  {
   "cell_type": "code",
   "execution_count": 2,
   "id": "b92fc7ab",
   "metadata": {
    "ExecuteTime": {
     "end_time": "2021-11-29T12:32:12.718565Z",
     "start_time": "2021-11-29T12:32:12.703081Z"
    }
   },
   "outputs": [],
   "source": [
    "# General parameters\n",
    "PRICE_MIN,PRICE_MAX = 1, 100\n",
    "QTY_MIN, QTY_MAX = 0, 100"
   ]
  },
  {
   "cell_type": "code",
   "execution_count": 3,
   "id": "d9b06f0e",
   "metadata": {
    "ExecuteTime": {
     "end_time": "2021-11-29T12:32:12.734587Z",
     "start_time": "2021-11-29T12:32:12.718565Z"
    }
   },
   "outputs": [],
   "source": [
    "# Sellers' parameters\n",
    "NB_SELLERS = 5\n",
    "PRICE_PROD = 30\n",
    "\n",
    "MEMORY_SELLER = 0.5\n",
    "RISK_AVERSITY_SELLER = 0.2\n",
    "CURIOSITY_SELLER = 0.3"
   ]
  },
  {
   "cell_type": "code",
   "execution_count": 4,
   "id": "e95eb532",
   "metadata": {
    "ExecuteTime": {
     "end_time": "2021-11-29T12:32:12.750215Z",
     "start_time": "2021-11-29T12:32:12.734587Z"
    }
   },
   "outputs": [],
   "source": [
    "# Buyers' parameters\n",
    "NB_BUYERS = 5\n",
    "BUDGET = 70\n",
    "\n",
    "MEMORY_BUYER = 0.5\n",
    "RISK_AVERSITY_BUYER = 0.2\n",
    "CURIOSITY_BUYER = 0.3\n",
    "MYOPIA_FACTOR = 0.7\n",
    "PENALTY_FACTOR = 1/PRICE_PROD   # 0.5"
   ]
  },
  {
   "cell_type": "markdown",
   "id": "1f66b6a4",
   "metadata": {},
   "source": [
    "# Agents definition"
   ]
  },
  {
   "cell_type": "code",
   "execution_count": 5,
   "id": "75f59515",
   "metadata": {
    "ExecuteTime": {
     "end_time": "2021-11-29T12:32:12.781490Z",
     "start_time": "2021-11-29T12:32:12.750215Z"
    }
   },
   "outputs": [],
   "source": [
    "class Seller:\n",
    "    \"\"\"\n",
    "        Selling agent class\n",
    "        * name: Unique identifier \n",
    "        * alpha: Q-learning alpha factor, representing agent's memory\n",
    "        * gamma: Q-learning gamma factor, representing agent's risk aversity\n",
    "        * epsilon: e-greedy policy e factor, representing agent's curiosity\n",
    "        * price_prod: Price of producing one unit of good   # TODO: Replace to price function\n",
    "        * qty_prod: Quantity of goods produced (to be learned as we go along)\n",
    "        * price_sell: Price at which the agent will try to sell its goods (to be learned as we go along)\n",
    "        * qty_left: Quantity of goods that have not been sold (yet)\n",
    "        * q_table: Q-learning table\n",
    "        * history: List of all sales\n",
    "    \"\"\"\n",
    "    \n",
    "    def __init__(self,  \n",
    "                 price_prod: int = PRICE_PROD, \n",
    "                 alpha: float = MEMORY_SELLER, \n",
    "                 gamma: float = RISK_AVERSITY_SELLER, \n",
    "                 epsilon: float = CURIOSITY_SELLER,\n",
    "                 stochastic: bool = False,\n",
    "                 name: Union[str, int] = \"\"):\n",
    "        \n",
    "        self.name: str = str(name) if name else str(uuid4())\n",
    "        self.alpha: float = alpha\n",
    "        self.gamma: float = gamma\n",
    "        self.epsilon: float = epsilon\n",
    "        \n",
    "        assert PRICE_MIN <= price_prod <= PRICE_MAX, f\"Production price price_prod={price_prod} is not within the price bounds PRICE_MIN={PRICE_MIN} and PRICE_MAX={PRICE_MAX}\"\n",
    "        self.price_prod: int = price_prod\n",
    "        \n",
    "        # If stochastic==True, use a gaussian distribution to get price_prod\n",
    "        # TODO: Try out other distributions\n",
    "        if stochastic:\n",
    "            std_dev = (PRICE_MAX - PRICE_MIN) / 100\n",
    "            price_prod = rd.gauss(price_prod, std_dev)\n",
    "            self.price_prod = min(PRICE_MAX, max(PRICE_MIN, floor(price_prod)))\n",
    "            \n",
    "        # Initialize randomly first selling price\n",
    "        # TODO: Try out other initialization strategies\n",
    "        self.qty_prod: int = rd.randint(self.price_prod, PRICE_MAX)\n",
    "        self.price_sell: int = rd.randint(self.price_prod, PRICE_MAX)\n",
    "        \n",
    "        self.qty_left: int = self.qty_prod\n",
    "        \n",
    "        # Initialize Q-table with zeros\n",
    "        self.q_table: pd.DataFrame = pd.DataFrame(\n",
    "            index=range(PRICE_MIN, PRICE_MAX+1), \n",
    "            columns=range(QTY_MIN, QTY_MAX+1), \n",
    "            dtype=float\n",
    "        ).fillna(0.)\n",
    "            \n",
    "        # history is a list of lists (one for every round) of pairs (price, quantity)\n",
    "        self.history: List[List[Tuple[int, int]]] = [[]]\n",
    "            \n",
    "            \n",
    "    def get_price(self) -> int:\n",
    "        return self.price_sell\n",
    "            \n",
    "    def get_qty(self) -> int:\n",
    "        return self.qty_left\n",
    "            \n",
    "    def get_history(self) -> list:\n",
    "        return self.history\n",
    "    \n",
    "    \n",
    "    def sell(self, qty: int) -> None:\n",
    "        \"\"\" Sell qty goods at self.price_sell \"\"\"\n",
    "        assert qty <= self.qty_left, f\"Seller {seller.name} is trying to sell {qty} goods, but it has only {self.qty_left} left!\"\n",
    "        self.qty_left -= qty\n",
    "        self.history[-1].append((self.price_sell, qty))\n",
    "        \n",
    "            \n",
    "    def learn(self) -> None:\n",
    "        \"\"\" Update Q-table (\"learn\") and reinitialize params \"\"\"\n",
    "        \n",
    "        # Compute reward (profit)\n",
    "        qty_sold = self.qty_prod - self.qty_left\n",
    "        reward = qty_sold * self.price_sell - self.qty_prod * self.price_prod\n",
    "        \n",
    "        # Update Q-table\n",
    "        self.q_table.loc[self.price_sell, self.qty_prod] *= 1 - self.alpha\n",
    "        self.q_table.loc[self.price_sell, self.qty_prod] += self.alpha * reward   # + self.alpha * self.gamma * self.q_table.max()\n",
    "        \n",
    "        # Get next price with e-greedy policy\n",
    "        # TODO: Try out other exploration/exploitation policies\n",
    "        if rd.random() < self.epsilon:\n",
    "            # Exploration: Try out a random pair (price_sell, qty_prod)\n",
    "            self.price_sell = rd.choice(list(self.q_table.index))\n",
    "            self.qty_prod = rd.choice(list(self.q_table.columns))\n",
    "        else:\n",
    "            # Exploitation: Go for maximizing pair (price_sell, qty_prod)\n",
    "            self.price_sell = self.q_table.index[self.q_table.max(axis=1).argmax()]\n",
    "            self.qty_prod = self.q_table.columns[self.q_table.max().argmax()]\n",
    "        \n",
    "        # Prepare a new list for next round\n",
    "        self.history.append([])"
   ]
  },
  {
   "cell_type": "code",
   "execution_count": 6,
   "id": "42eb4659",
   "metadata": {
    "ExecuteTime": {
     "end_time": "2021-11-29T12:32:12.828322Z",
     "start_time": "2021-11-29T12:32:12.781490Z"
    }
   },
   "outputs": [],
   "source": [
    "class Buyer:\n",
    "    \"\"\"\n",
    "        Buying agent class\n",
    "        * name: Unique identifier \n",
    "        * alpha: Q-learning alpha factor, representing agent's memory\n",
    "        * gamma: Q-learning gamma factor, representing agent's risk aversity\n",
    "        * epsilon: e-greedy policy e factor, representing agent's curiosity\n",
    "        * myopia: Factor representing agent's short-sightedness\n",
    "        * penalty: Penalization factor when there are some budget leftovers at the end of the round\n",
    "        * budget: Initial budget when starting round\n",
    "        * budget_left: Budget left, to be used\n",
    "        * q_table: Q-learning table\n",
    "        * history: List of all purchases\n",
    "    \"\"\"\n",
    "    \n",
    "    def __init__(self,  \n",
    "                 budget: int = BUDGET, \n",
    "                 alpha: float = MEMORY_BUYER, \n",
    "                 gamma: float = RISK_AVERSITY_BUYER, \n",
    "                 epsilon: float = CURIOSITY_BUYER,\n",
    "                 myopia: float = MYOPIA_FACTOR,\n",
    "                 penalty: float = PENALTY_FACTOR,\n",
    "                 stochastic: bool = False,\n",
    "                 name: Union[str, int] = \"\"):\n",
    "        \n",
    "        self.name: str = str(name) if name else str(uuid4())\n",
    "        self.alpha: float = alpha\n",
    "        self.gamma: float = gamma\n",
    "        self.epsilon: float = epsilon\n",
    "        self.myopia: float = myopia\n",
    "        self.penalty: float = penalty\n",
    "        \n",
    "        assert PRICE_MIN <= budget <= PRICE_MAX, f\"Budget budget={budget} is not within the price bounds PRICE_MIN={PRICE_MIN} and PRICE_MAX={PRICE_MAX}\"\n",
    "        self.budget: int = budget\n",
    "        \n",
    "        # If stochastic==True, use a gaussian distribution to get budget\n",
    "        # TODO: Try out other distributions\n",
    "        if stochastic:\n",
    "            std_dev = (PRICE_MAX - PRICE_MIN) / 100\n",
    "            budget = rd.gauss(budget, std_dev)\n",
    "            self.budget = min(PRICE_MAX, max(PRICE_MIN, floor(budget)))\n",
    "            \n",
    "        self.budget_left = self.budget\n",
    "        \n",
    "        # Initialize Q-table with zeros\n",
    "        index_list = [ (i, j) for i in range(PRICE_MIN, PRICE_MAX+1) for j in range(PRICE_MIN, PRICE_MAX+1) ]\n",
    "        self.q_table: pd.DataFrame = pd.DataFrame(\n",
    "            index=pd.MultiIndex.from_tuples(index_list), \n",
    "            columns=range(QTY_MIN, QTY_MAX+1), \n",
    "            dtype=float\n",
    "        ).fillna(0.)\n",
    "            \n",
    "        # history is a list of lists (one for every round) of triples (budget_before, price, quantity)\n",
    "        self.history: List[List[Tuple[int, int, int]]] = [[]]\n",
    "            \n",
    "            \n",
    "    def get_history(self) -> list:\n",
    "        return self.history\n",
    "    \n",
    "    \n",
    "    def buy(self, price: int, qty_left: int) -> int:\n",
    "        \"\"\" Returns the number of goods bought at price price \"\"\"\n",
    "        \n",
    "        # Get quantity to buy with e-greedy policy, given that\n",
    "        # * quantity shall be lower than qty_left (Buyer cannot buy more goods than available)\n",
    "        # * quantity * price shall be lower than budget (Buyer cannot buy goods for more than its budget)\n",
    "        # TODO: Try out other exploration/exploitation policies\n",
    "        \n",
    "        qty_max = min(qty_left, self.budget // price)\n",
    "        if rd.random() < self.epsilon:\n",
    "            # Exploration: Try out a random quantity\n",
    "            qty_to_buy = rd.choice(list(self.q_table.columns[:qty_max+1]))\n",
    "        else:\n",
    "            # Exploitation: Go for maximizing quantity\n",
    "            qty_to_buy = self.q_table.columns[self.q_table.max()[:qty_max+1].argmax()] \n",
    "        \n",
    "        self.history[-1].append(( self.budget_left, price, qty_to_buy ))\n",
    "        self.budget_left -= qty_to_buy * price\n",
    "        return qty_to_buy\n",
    "        \n",
    "            \n",
    "    def learn(self) -> None:\n",
    "        \"\"\" Update Q-table (\"learn\") and reinitialize params \"\"\"\n",
    "        \n",
    "        # Compute number of goods purchased overall this round\n",
    "        nb_goods_purchased_after = sum([ qty for _, _, qty in self.history[-1] ])\n",
    "        nb_purchases = len(self.history[-1])\n",
    "        \n",
    "        # Compute penalty for budget not spent\n",
    "        penalty = self.penalty * self.budget_left\n",
    "        \n",
    "        for i, purchase in enumerate(self.history[-1]):\n",
    "            budget, price, qty = purchase\n",
    "            \n",
    "            # Compute reward (nb of goods purchased)\n",
    "            # Weight more nb of goods purchased \n",
    "            myopia_factor = self.myopia**(nb_purchases - i)\n",
    "            nb_goods_purchased_after -= qty\n",
    "            reward = qty + myopia_factor * (nb_goods_purchased_after - penalty)\n",
    "            \n",
    "            # Get max potential Q-value\n",
    "            if i < nb_purchases - 1:\n",
    "                budget_left, _, _ = self.history[-1][i+1]\n",
    "                potential_reward = self.q_table.loc[(budget_left, price)].max()   # Pb if qty=0, it may be an already updated value (really pbic?)\n",
    "            else:\n",
    "                potential_reward = 0\n",
    "        \n",
    "            # Update Q-table\n",
    "            self.q_table.loc[(budget, price), qty] *= 1 - self.alpha\n",
    "            self.q_table.loc[(budget, price), qty] += self.alpha * (reward + self.gamma * potential_reward)\n",
    "        \n",
    "        # Prepare a new list for next round\n",
    "        self.history.append([])"
   ]
  },
  {
   "cell_type": "markdown",
   "id": "d1462974",
   "metadata": {},
   "source": [
    "# Game definition"
   ]
  },
  {
   "cell_type": "code",
   "execution_count": 7,
   "id": "4200aeb5",
   "metadata": {
    "ExecuteTime": {
     "end_time": "2021-11-29T12:32:12.844339Z",
     "start_time": "2021-11-29T12:32:12.829832Z"
    }
   },
   "outputs": [],
   "source": [
    "def get_new_agents(nb_sellers: int = NB_SELLERS, nb_buyers: int = NB_BUYERS) -> Tuple[List[Seller], List[Buyer]]:\n",
    "    \"\"\" Creates lists of sellers/buyers \"\"\"\n",
    "    sellers = [ \n",
    "        Seller(\n",
    "            name=i,\n",
    "            price_prod=30\n",
    "        )\n",
    "        for i in range(nb_sellers) \n",
    "    ]\n",
    "    buyers = [ \n",
    "        Buyer(\n",
    "            name=i,\n",
    "            budget=70\n",
    "        )\n",
    "        for i in range(nb_buyers) \n",
    "    ]\n",
    "    return sellers, buyers"
   ]
  },
  {
   "cell_type": "code",
   "execution_count": 8,
   "id": "e7fee54f",
   "metadata": {
    "ExecuteTime": {
     "end_time": "2021-11-29T12:32:12.859969Z",
     "start_time": "2021-11-29T12:32:12.844339Z"
    }
   },
   "outputs": [],
   "source": [
    "def play_round(sellers: List[Seller], buyers: List[Buyer], Verbose: bool = True) -> Tuple[List[Seller], List[Buyer]]:\n",
    "    \"\"\" Plays a round \"\"\"\n",
    "    \n",
    "    # Consider buyers in a random order\n",
    "    rd.shuffle(buyers)\n",
    "\n",
    "    for buyer in buyers:\n",
    "        if Verbose:\n",
    "            print(f\"> Buyer {buyer.name}: budget_left={buyer.budget_left}\")\n",
    "        \n",
    "        # Get a random number of sellers to present to the buyer\n",
    "        # TODO: Try out other strategies\n",
    "        k = rd.randint(0, NB_SELLERS)\n",
    "        idx_sellers = rd.sample(range(NB_SELLERS), k=k)\n",
    "        \n",
    "        for idx_seller in idx_sellers:\n",
    "            \n",
    "            seller = sellers[idx_seller]\n",
    "            price, qty = seller.get_price(), seller.get_qty()\n",
    "            if Verbose:\n",
    "                print(f\">> Seller {seller.name}: price_sell={price}  qty_left={qty}\")\n",
    "\n",
    "            qty_bought = buyer.buy(price, qty)\n",
    "            sellers[idx_seller].sell(qty_bought)\n",
    "            if Verbose:\n",
    "                print(f\">>> {qty_bought} goods purchased/sold\")\n",
    "                print(f\">>> Buyer's budget_left={buyer.budget_left}\")\n",
    "                print(f\">>> Seller's qty_left={sellers[idx_seller].get_qty()}\")\n",
    "                \n",
    "        buyer.learn()\n",
    "                    \n",
    "    for seller in sellers:\n",
    "        seller.learn()\n",
    "        \n",
    "    return sellers, buyers"
   ]
  },
  {
   "cell_type": "code",
   "execution_count": 9,
   "id": "d26455bc",
   "metadata": {
    "ExecuteTime": {
     "end_time": "2021-11-29T12:32:12.875835Z",
     "start_time": "2021-11-29T12:32:12.859969Z"
    }
   },
   "outputs": [],
   "source": [
    "# def display_history(sellers: list):\n",
    "#     history = pd.DataFrame({\n",
    "#         seller.id: seller.get_history()\n",
    "#         for seller in sellers\n",
    "#     })\n",
    "#     history.plot()"
   ]
  },
  {
   "cell_type": "markdown",
   "id": "603b83dc",
   "metadata": {},
   "source": [
    "# Plays"
   ]
  },
  {
   "cell_type": "code",
   "execution_count": 10,
   "id": "a1bcf041",
   "metadata": {
    "ExecuteTime": {
     "end_time": "2021-11-29T12:32:13.352432Z",
     "start_time": "2021-11-29T12:32:12.875835Z"
    }
   },
   "outputs": [
    {
     "data": {
      "application/vnd.jupyter.widget-view+json": {
       "model_id": "8bb9de262c2b4792bfc1eb1c9af3fe36",
       "version_major": 2,
       "version_minor": 0
      },
      "text/plain": [
       "  0%|          | 0/10 [00:00<?, ?it/s]"
      ]
     },
     "metadata": {},
     "output_type": "display_data"
    },
    {
     "name": "stdout",
     "output_type": "stream",
     "text": [
      "> Buyer 6e7ffcac-af71-4368-9d81-08eadc99ea39: budget_left=70\n",
      ">> Seller 2: price_sell=69  qty_left=86\n",
      ">>> 0 goods purchased/sold\n",
      ">>> Buyer's budget_left=70\n",
      ">>> Seller's qty_left=86\n",
      ">> Seller 0b013a21-bfae-4ac7-8606-2d98ccc1f3d0: price_sell=73  qty_left=78\n",
      ">>> 0 goods purchased/sold\n",
      ">>> Buyer's budget_left=70\n",
      ">>> Seller's qty_left=78\n",
      ">> Seller 1: price_sell=64  qty_left=62\n",
      ">>> 0 goods purchased/sold\n",
      ">>> Buyer's budget_left=70\n",
      ">>> Seller's qty_left=62\n",
      ">> Seller 3: price_sell=46  qty_left=45\n",
      ">>> 0 goods purchased/sold\n",
      ">>> Buyer's budget_left=70\n",
      ">>> Seller's qty_left=45\n",
      ">> Seller 4: price_sell=63  qty_left=64\n",
      ">>> 1 goods purchased/sold\n",
      ">>> Buyer's budget_left=7\n",
      ">>> Seller's qty_left=63\n",
      "> Buyer 3: budget_left=70\n",
      ">> Seller 3: price_sell=46  qty_left=45\n",
      ">>> 0 goods purchased/sold\n",
      ">>> Buyer's budget_left=70\n",
      ">>> Seller's qty_left=45\n",
      ">> Seller 4: price_sell=63  qty_left=63\n",
      ">>> 1 goods purchased/sold\n",
      ">>> Buyer's budget_left=7\n",
      ">>> Seller's qty_left=62\n",
      ">> Seller 2: price_sell=69  qty_left=86\n",
      ">>> 0 goods purchased/sold\n",
      ">>> Buyer's budget_left=7\n",
      ">>> Seller's qty_left=86\n",
      ">> Seller 1: price_sell=64  qty_left=62\n",
      ">>> 0 goods purchased/sold\n",
      ">>> Buyer's budget_left=7\n",
      ">>> Seller's qty_left=62\n",
      "> Buyer 4: budget_left=70\n",
      ">> Seller 0b013a21-bfae-4ac7-8606-2d98ccc1f3d0: price_sell=73  qty_left=78\n",
      ">>> 0 goods purchased/sold\n",
      ">>> Buyer's budget_left=70\n",
      ">>> Seller's qty_left=78\n",
      ">> Seller 2: price_sell=69  qty_left=86\n",
      ">>> 1 goods purchased/sold\n",
      ">>> Buyer's budget_left=1\n",
      ">>> Seller's qty_left=85\n",
      ">> Seller 3: price_sell=46  qty_left=45\n",
      ">>> 0 goods purchased/sold\n",
      ">>> Buyer's budget_left=1\n",
      ">>> Seller's qty_left=45\n",
      ">> Seller 4: price_sell=63  qty_left=62\n",
      ">>> 1 goods purchased/sold\n",
      ">>> Buyer's budget_left=-62\n",
      ">>> Seller's qty_left=61\n",
      ">> Seller 1: price_sell=64  qty_left=62\n",
      ">>> 0 goods purchased/sold\n",
      ">>> Buyer's budget_left=-62\n",
      ">>> Seller's qty_left=62\n"
     ]
    },
    {
     "ename": "KeyError",
     "evalue": "-62",
     "output_type": "error",
     "traceback": [
      "\u001b[1;31m---------------------------------------------------------------------------\u001b[0m",
      "\u001b[1;31mKeyError\u001b[0m                                  Traceback (most recent call last)",
      "\u001b[1;32m~\\anaconda3\\lib\\site-packages\\pandas\\core\\indexes\\base.py\u001b[0m in \u001b[0;36mget_loc\u001b[1;34m(self, key, method, tolerance)\u001b[0m\n\u001b[0;32m   3360\u001b[0m             \u001b[1;32mtry\u001b[0m\u001b[1;33m:\u001b[0m\u001b[1;33m\u001b[0m\u001b[1;33m\u001b[0m\u001b[0m\n\u001b[1;32m-> 3361\u001b[1;33m                 \u001b[1;32mreturn\u001b[0m \u001b[0mself\u001b[0m\u001b[1;33m.\u001b[0m\u001b[0m_engine\u001b[0m\u001b[1;33m.\u001b[0m\u001b[0mget_loc\u001b[0m\u001b[1;33m(\u001b[0m\u001b[0mcasted_key\u001b[0m\u001b[1;33m)\u001b[0m\u001b[1;33m\u001b[0m\u001b[1;33m\u001b[0m\u001b[0m\n\u001b[0m\u001b[0;32m   3362\u001b[0m             \u001b[1;32mexcept\u001b[0m \u001b[0mKeyError\u001b[0m \u001b[1;32mas\u001b[0m \u001b[0merr\u001b[0m\u001b[1;33m:\u001b[0m\u001b[1;33m\u001b[0m\u001b[1;33m\u001b[0m\u001b[0m\n",
      "\u001b[1;32m~\\anaconda3\\lib\\site-packages\\pandas\\_libs\\index.pyx\u001b[0m in \u001b[0;36mpandas._libs.index.IndexEngine.get_loc\u001b[1;34m()\u001b[0m\n",
      "\u001b[1;32m~\\anaconda3\\lib\\site-packages\\pandas\\_libs\\index.pyx\u001b[0m in \u001b[0;36mpandas._libs.index.IndexEngine.get_loc\u001b[1;34m()\u001b[0m\n",
      "\u001b[1;32mpandas\\_libs\\hashtable_class_helper.pxi\u001b[0m in \u001b[0;36mpandas._libs.hashtable.Int64HashTable.get_item\u001b[1;34m()\u001b[0m\n",
      "\u001b[1;32mpandas\\_libs\\hashtable_class_helper.pxi\u001b[0m in \u001b[0;36mpandas._libs.hashtable.Int64HashTable.get_item\u001b[1;34m()\u001b[0m\n",
      "\u001b[1;31mKeyError\u001b[0m: -62",
      "\nThe above exception was the direct cause of the following exception:\n",
      "\u001b[1;31mKeyError\u001b[0m                                  Traceback (most recent call last)",
      "\u001b[1;32m~\\AppData\\Local\\Temp/ipykernel_21152/4273005207.py\u001b[0m in \u001b[0;36m<module>\u001b[1;34m\u001b[0m\n\u001b[0;32m      2\u001b[0m \u001b[1;33m\u001b[0m\u001b[0m\n\u001b[0;32m      3\u001b[0m \u001b[1;32mfor\u001b[0m \u001b[0m_\u001b[0m \u001b[1;32min\u001b[0m \u001b[0mtqdm\u001b[0m\u001b[1;33m(\u001b[0m\u001b[0mrange\u001b[0m\u001b[1;33m(\u001b[0m\u001b[1;36m10\u001b[0m\u001b[1;33m)\u001b[0m\u001b[1;33m)\u001b[0m\u001b[1;33m:\u001b[0m\u001b[1;33m\u001b[0m\u001b[1;33m\u001b[0m\u001b[0m\n\u001b[1;32m----> 4\u001b[1;33m     \u001b[0msellers\u001b[0m\u001b[1;33m,\u001b[0m \u001b[0mbuyers\u001b[0m \u001b[1;33m=\u001b[0m \u001b[0mplay_round\u001b[0m\u001b[1;33m(\u001b[0m\u001b[0msellers\u001b[0m\u001b[1;33m,\u001b[0m \u001b[0mbuyers\u001b[0m\u001b[1;33m,\u001b[0m \u001b[0mVerbose\u001b[0m\u001b[1;33m=\u001b[0m\u001b[1;32mTrue\u001b[0m\u001b[1;33m)\u001b[0m\u001b[1;33m\u001b[0m\u001b[1;33m\u001b[0m\u001b[0m\n\u001b[0m\u001b[0;32m      5\u001b[0m \u001b[1;33m\u001b[0m\u001b[0m\n\u001b[0;32m      6\u001b[0m \u001b[1;31m# display_history(sellers)\u001b[0m\u001b[1;33m\u001b[0m\u001b[1;33m\u001b[0m\u001b[1;33m\u001b[0m\u001b[0m\n",
      "\u001b[1;32m~\\AppData\\Local\\Temp/ipykernel_21152/779180767.py\u001b[0m in \u001b[0;36mplay_round\u001b[1;34m(sellers, buyers, Verbose)\u001b[0m\n\u001b[0;32m     28\u001b[0m                 \u001b[0mprint\u001b[0m\u001b[1;33m(\u001b[0m\u001b[1;34mf\">>> Seller's qty_left={sellers[idx_seller].get_qty()}\"\u001b[0m\u001b[1;33m)\u001b[0m\u001b[1;33m\u001b[0m\u001b[1;33m\u001b[0m\u001b[0m\n\u001b[0;32m     29\u001b[0m \u001b[1;33m\u001b[0m\u001b[0m\n\u001b[1;32m---> 30\u001b[1;33m         \u001b[0mbuyer\u001b[0m\u001b[1;33m.\u001b[0m\u001b[0mlearn\u001b[0m\u001b[1;33m(\u001b[0m\u001b[1;33m)\u001b[0m\u001b[1;33m\u001b[0m\u001b[1;33m\u001b[0m\u001b[0m\n\u001b[0m\u001b[0;32m     31\u001b[0m \u001b[1;33m\u001b[0m\u001b[0m\n\u001b[0;32m     32\u001b[0m     \u001b[1;32mfor\u001b[0m \u001b[0mseller\u001b[0m \u001b[1;32min\u001b[0m \u001b[0msellers\u001b[0m\u001b[1;33m:\u001b[0m\u001b[1;33m\u001b[0m\u001b[1;33m\u001b[0m\u001b[0m\n",
      "\u001b[1;32m~\\AppData\\Local\\Temp/ipykernel_21152/451264804.py\u001b[0m in \u001b[0;36mlearn\u001b[1;34m(self)\u001b[0m\n\u001b[0;32m    102\u001b[0m             \u001b[1;32mif\u001b[0m \u001b[0mi\u001b[0m \u001b[1;33m<\u001b[0m \u001b[0mnb_purchases\u001b[0m \u001b[1;33m-\u001b[0m \u001b[1;36m1\u001b[0m\u001b[1;33m:\u001b[0m\u001b[1;33m\u001b[0m\u001b[1;33m\u001b[0m\u001b[0m\n\u001b[0;32m    103\u001b[0m                 \u001b[0mbudget_left\u001b[0m\u001b[1;33m,\u001b[0m \u001b[0m_\u001b[0m\u001b[1;33m,\u001b[0m \u001b[0m_\u001b[0m \u001b[1;33m=\u001b[0m \u001b[0mself\u001b[0m\u001b[1;33m.\u001b[0m\u001b[0mhistory\u001b[0m\u001b[1;33m[\u001b[0m\u001b[1;33m-\u001b[0m\u001b[1;36m1\u001b[0m\u001b[1;33m]\u001b[0m\u001b[1;33m[\u001b[0m\u001b[0mi\u001b[0m\u001b[1;33m+\u001b[0m\u001b[1;36m1\u001b[0m\u001b[1;33m]\u001b[0m\u001b[1;33m\u001b[0m\u001b[1;33m\u001b[0m\u001b[0m\n\u001b[1;32m--> 104\u001b[1;33m                 \u001b[0mpotential_reward\u001b[0m \u001b[1;33m=\u001b[0m \u001b[0mself\u001b[0m\u001b[1;33m.\u001b[0m\u001b[0mq_table\u001b[0m\u001b[1;33m.\u001b[0m\u001b[0mloc\u001b[0m\u001b[1;33m[\u001b[0m\u001b[1;33m(\u001b[0m\u001b[0mbudget_left\u001b[0m\u001b[1;33m,\u001b[0m \u001b[0mprice\u001b[0m\u001b[1;33m)\u001b[0m\u001b[1;33m]\u001b[0m\u001b[1;33m.\u001b[0m\u001b[0mmax\u001b[0m\u001b[1;33m(\u001b[0m\u001b[1;33m)\u001b[0m   \u001b[1;31m# Pb if qty=0, it may be an already updated value (really pbic?)\u001b[0m\u001b[1;33m\u001b[0m\u001b[1;33m\u001b[0m\u001b[0m\n\u001b[0m\u001b[0;32m    105\u001b[0m             \u001b[1;32melse\u001b[0m\u001b[1;33m:\u001b[0m\u001b[1;33m\u001b[0m\u001b[1;33m\u001b[0m\u001b[0m\n\u001b[0;32m    106\u001b[0m                 \u001b[0mpotential_reward\u001b[0m \u001b[1;33m=\u001b[0m \u001b[1;36m0\u001b[0m\u001b[1;33m\u001b[0m\u001b[1;33m\u001b[0m\u001b[0m\n",
      "\u001b[1;32m~\\anaconda3\\lib\\site-packages\\pandas\\core\\indexing.py\u001b[0m in \u001b[0;36m__getitem__\u001b[1;34m(self, key)\u001b[0m\n\u001b[0;32m    923\u001b[0m                 \u001b[1;32mwith\u001b[0m \u001b[0msuppress\u001b[0m\u001b[1;33m(\u001b[0m\u001b[0mKeyError\u001b[0m\u001b[1;33m,\u001b[0m \u001b[0mIndexError\u001b[0m\u001b[1;33m)\u001b[0m\u001b[1;33m:\u001b[0m\u001b[1;33m\u001b[0m\u001b[1;33m\u001b[0m\u001b[0m\n\u001b[0;32m    924\u001b[0m                     \u001b[1;32mreturn\u001b[0m \u001b[0mself\u001b[0m\u001b[1;33m.\u001b[0m\u001b[0mobj\u001b[0m\u001b[1;33m.\u001b[0m\u001b[0m_get_value\u001b[0m\u001b[1;33m(\u001b[0m\u001b[1;33m*\u001b[0m\u001b[0mkey\u001b[0m\u001b[1;33m,\u001b[0m \u001b[0mtakeable\u001b[0m\u001b[1;33m=\u001b[0m\u001b[0mself\u001b[0m\u001b[1;33m.\u001b[0m\u001b[0m_takeable\u001b[0m\u001b[1;33m)\u001b[0m\u001b[1;33m\u001b[0m\u001b[1;33m\u001b[0m\u001b[0m\n\u001b[1;32m--> 925\u001b[1;33m             \u001b[1;32mreturn\u001b[0m \u001b[0mself\u001b[0m\u001b[1;33m.\u001b[0m\u001b[0m_getitem_tuple\u001b[0m\u001b[1;33m(\u001b[0m\u001b[0mkey\u001b[0m\u001b[1;33m)\u001b[0m\u001b[1;33m\u001b[0m\u001b[1;33m\u001b[0m\u001b[0m\n\u001b[0m\u001b[0;32m    926\u001b[0m         \u001b[1;32melse\u001b[0m\u001b[1;33m:\u001b[0m\u001b[1;33m\u001b[0m\u001b[1;33m\u001b[0m\u001b[0m\n\u001b[0;32m    927\u001b[0m             \u001b[1;31m# we by definition only have the 0th axis\u001b[0m\u001b[1;33m\u001b[0m\u001b[1;33m\u001b[0m\u001b[1;33m\u001b[0m\u001b[0m\n",
      "\u001b[1;32m~\\anaconda3\\lib\\site-packages\\pandas\\core\\indexing.py\u001b[0m in \u001b[0;36m_getitem_tuple\u001b[1;34m(self, tup)\u001b[0m\n\u001b[0;32m   1098\u001b[0m     \u001b[1;32mdef\u001b[0m \u001b[0m_getitem_tuple\u001b[0m\u001b[1;33m(\u001b[0m\u001b[0mself\u001b[0m\u001b[1;33m,\u001b[0m \u001b[0mtup\u001b[0m\u001b[1;33m:\u001b[0m \u001b[0mtuple\u001b[0m\u001b[1;33m)\u001b[0m\u001b[1;33m:\u001b[0m\u001b[1;33m\u001b[0m\u001b[1;33m\u001b[0m\u001b[0m\n\u001b[0;32m   1099\u001b[0m         \u001b[1;32mwith\u001b[0m \u001b[0msuppress\u001b[0m\u001b[1;33m(\u001b[0m\u001b[0mIndexingError\u001b[0m\u001b[1;33m)\u001b[0m\u001b[1;33m:\u001b[0m\u001b[1;33m\u001b[0m\u001b[1;33m\u001b[0m\u001b[0m\n\u001b[1;32m-> 1100\u001b[1;33m             \u001b[1;32mreturn\u001b[0m \u001b[0mself\u001b[0m\u001b[1;33m.\u001b[0m\u001b[0m_getitem_lowerdim\u001b[0m\u001b[1;33m(\u001b[0m\u001b[0mtup\u001b[0m\u001b[1;33m)\u001b[0m\u001b[1;33m\u001b[0m\u001b[1;33m\u001b[0m\u001b[0m\n\u001b[0m\u001b[0;32m   1101\u001b[0m \u001b[1;33m\u001b[0m\u001b[0m\n\u001b[0;32m   1102\u001b[0m         \u001b[1;31m# no multi-index, so validate all of the indexers\u001b[0m\u001b[1;33m\u001b[0m\u001b[1;33m\u001b[0m\u001b[1;33m\u001b[0m\u001b[0m\n",
      "\u001b[1;32m~\\anaconda3\\lib\\site-packages\\pandas\\core\\indexing.py\u001b[0m in \u001b[0;36m_getitem_lowerdim\u001b[1;34m(self, tup)\u001b[0m\n\u001b[0;32m    836\u001b[0m                 \u001b[1;31m# We don't need to check for tuples here because those are\u001b[0m\u001b[1;33m\u001b[0m\u001b[1;33m\u001b[0m\u001b[1;33m\u001b[0m\u001b[0m\n\u001b[0;32m    837\u001b[0m                 \u001b[1;31m#  caught by the _is_nested_tuple_indexer check above.\u001b[0m\u001b[1;33m\u001b[0m\u001b[1;33m\u001b[0m\u001b[1;33m\u001b[0m\u001b[0m\n\u001b[1;32m--> 838\u001b[1;33m                 \u001b[0msection\u001b[0m \u001b[1;33m=\u001b[0m \u001b[0mself\u001b[0m\u001b[1;33m.\u001b[0m\u001b[0m_getitem_axis\u001b[0m\u001b[1;33m(\u001b[0m\u001b[0mkey\u001b[0m\u001b[1;33m,\u001b[0m \u001b[0maxis\u001b[0m\u001b[1;33m=\u001b[0m\u001b[0mi\u001b[0m\u001b[1;33m)\u001b[0m\u001b[1;33m\u001b[0m\u001b[1;33m\u001b[0m\u001b[0m\n\u001b[0m\u001b[0;32m    839\u001b[0m \u001b[1;33m\u001b[0m\u001b[0m\n\u001b[0;32m    840\u001b[0m                 \u001b[1;31m# We should never have a scalar section here, because\u001b[0m\u001b[1;33m\u001b[0m\u001b[1;33m\u001b[0m\u001b[1;33m\u001b[0m\u001b[0m\n",
      "\u001b[1;32m~\\anaconda3\\lib\\site-packages\\pandas\\core\\indexing.py\u001b[0m in \u001b[0;36m_getitem_axis\u001b[1;34m(self, key, axis)\u001b[0m\n\u001b[0;32m   1162\u001b[0m         \u001b[1;31m# fall thru to straight lookup\u001b[0m\u001b[1;33m\u001b[0m\u001b[1;33m\u001b[0m\u001b[1;33m\u001b[0m\u001b[0m\n\u001b[0;32m   1163\u001b[0m         \u001b[0mself\u001b[0m\u001b[1;33m.\u001b[0m\u001b[0m_validate_key\u001b[0m\u001b[1;33m(\u001b[0m\u001b[0mkey\u001b[0m\u001b[1;33m,\u001b[0m \u001b[0maxis\u001b[0m\u001b[1;33m)\u001b[0m\u001b[1;33m\u001b[0m\u001b[1;33m\u001b[0m\u001b[0m\n\u001b[1;32m-> 1164\u001b[1;33m         \u001b[1;32mreturn\u001b[0m \u001b[0mself\u001b[0m\u001b[1;33m.\u001b[0m\u001b[0m_get_label\u001b[0m\u001b[1;33m(\u001b[0m\u001b[0mkey\u001b[0m\u001b[1;33m,\u001b[0m \u001b[0maxis\u001b[0m\u001b[1;33m=\u001b[0m\u001b[0maxis\u001b[0m\u001b[1;33m)\u001b[0m\u001b[1;33m\u001b[0m\u001b[1;33m\u001b[0m\u001b[0m\n\u001b[0m\u001b[0;32m   1165\u001b[0m \u001b[1;33m\u001b[0m\u001b[0m\n\u001b[0;32m   1166\u001b[0m     \u001b[1;32mdef\u001b[0m \u001b[0m_get_slice_axis\u001b[0m\u001b[1;33m(\u001b[0m\u001b[0mself\u001b[0m\u001b[1;33m,\u001b[0m \u001b[0mslice_obj\u001b[0m\u001b[1;33m:\u001b[0m \u001b[0mslice\u001b[0m\u001b[1;33m,\u001b[0m \u001b[0maxis\u001b[0m\u001b[1;33m:\u001b[0m \u001b[0mint\u001b[0m\u001b[1;33m)\u001b[0m\u001b[1;33m:\u001b[0m\u001b[1;33m\u001b[0m\u001b[1;33m\u001b[0m\u001b[0m\n",
      "\u001b[1;32m~\\anaconda3\\lib\\site-packages\\pandas\\core\\indexing.py\u001b[0m in \u001b[0;36m_get_label\u001b[1;34m(self, label, axis)\u001b[0m\n\u001b[0;32m   1111\u001b[0m     \u001b[1;32mdef\u001b[0m \u001b[0m_get_label\u001b[0m\u001b[1;33m(\u001b[0m\u001b[0mself\u001b[0m\u001b[1;33m,\u001b[0m \u001b[0mlabel\u001b[0m\u001b[1;33m,\u001b[0m \u001b[0maxis\u001b[0m\u001b[1;33m:\u001b[0m \u001b[0mint\u001b[0m\u001b[1;33m)\u001b[0m\u001b[1;33m:\u001b[0m\u001b[1;33m\u001b[0m\u001b[1;33m\u001b[0m\u001b[0m\n\u001b[0;32m   1112\u001b[0m         \u001b[1;31m# GH#5667 this will fail if the label is not present in the axis.\u001b[0m\u001b[1;33m\u001b[0m\u001b[1;33m\u001b[0m\u001b[1;33m\u001b[0m\u001b[0m\n\u001b[1;32m-> 1113\u001b[1;33m         \u001b[1;32mreturn\u001b[0m \u001b[0mself\u001b[0m\u001b[1;33m.\u001b[0m\u001b[0mobj\u001b[0m\u001b[1;33m.\u001b[0m\u001b[0mxs\u001b[0m\u001b[1;33m(\u001b[0m\u001b[0mlabel\u001b[0m\u001b[1;33m,\u001b[0m \u001b[0maxis\u001b[0m\u001b[1;33m=\u001b[0m\u001b[0maxis\u001b[0m\u001b[1;33m)\u001b[0m\u001b[1;33m\u001b[0m\u001b[1;33m\u001b[0m\u001b[0m\n\u001b[0m\u001b[0;32m   1114\u001b[0m \u001b[1;33m\u001b[0m\u001b[0m\n\u001b[0;32m   1115\u001b[0m     \u001b[1;32mdef\u001b[0m \u001b[0m_handle_lowerdim_multi_index_axis0\u001b[0m\u001b[1;33m(\u001b[0m\u001b[0mself\u001b[0m\u001b[1;33m,\u001b[0m \u001b[0mtup\u001b[0m\u001b[1;33m:\u001b[0m \u001b[0mtuple\u001b[0m\u001b[1;33m)\u001b[0m\u001b[1;33m:\u001b[0m\u001b[1;33m\u001b[0m\u001b[1;33m\u001b[0m\u001b[0m\n",
      "\u001b[1;32m~\\anaconda3\\lib\\site-packages\\pandas\\core\\generic.py\u001b[0m in \u001b[0;36mxs\u001b[1;34m(self, key, axis, level, drop_level)\u001b[0m\n\u001b[0;32m   3768\u001b[0m         \u001b[1;32mif\u001b[0m \u001b[0misinstance\u001b[0m\u001b[1;33m(\u001b[0m\u001b[0mindex\u001b[0m\u001b[1;33m,\u001b[0m \u001b[0mMultiIndex\u001b[0m\u001b[1;33m)\u001b[0m\u001b[1;33m:\u001b[0m\u001b[1;33m\u001b[0m\u001b[1;33m\u001b[0m\u001b[0m\n\u001b[0;32m   3769\u001b[0m             \u001b[1;32mtry\u001b[0m\u001b[1;33m:\u001b[0m\u001b[1;33m\u001b[0m\u001b[1;33m\u001b[0m\u001b[0m\n\u001b[1;32m-> 3770\u001b[1;33m                 loc, new_index = index._get_loc_level(\n\u001b[0m\u001b[0;32m   3771\u001b[0m                     \u001b[0mkey\u001b[0m\u001b[1;33m,\u001b[0m \u001b[0mlevel\u001b[0m\u001b[1;33m=\u001b[0m\u001b[1;36m0\u001b[0m\u001b[1;33m,\u001b[0m \u001b[0mdrop_level\u001b[0m\u001b[1;33m=\u001b[0m\u001b[0mdrop_level\u001b[0m\u001b[1;33m\u001b[0m\u001b[1;33m\u001b[0m\u001b[0m\n\u001b[0;32m   3772\u001b[0m                 )\n",
      "\u001b[1;32m~\\anaconda3\\lib\\site-packages\\pandas\\core\\indexes\\multi.py\u001b[0m in \u001b[0;36m_get_loc_level\u001b[1;34m(self, key, level, drop_level)\u001b[0m\n\u001b[0;32m   3110\u001b[0m                 \u001b[1;32mreturn\u001b[0m \u001b[0mindexer\u001b[0m\u001b[1;33m,\u001b[0m \u001b[0mmaybe_mi_droplevels\u001b[0m\u001b[1;33m(\u001b[0m\u001b[0mindexer\u001b[0m\u001b[1;33m,\u001b[0m \u001b[0milevels\u001b[0m\u001b[1;33m,\u001b[0m \u001b[0mdrop_level\u001b[0m\u001b[1;33m)\u001b[0m\u001b[1;33m\u001b[0m\u001b[1;33m\u001b[0m\u001b[0m\n\u001b[0;32m   3111\u001b[0m         \u001b[1;32melse\u001b[0m\u001b[1;33m:\u001b[0m\u001b[1;33m\u001b[0m\u001b[1;33m\u001b[0m\u001b[0m\n\u001b[1;32m-> 3112\u001b[1;33m             \u001b[0mindexer\u001b[0m \u001b[1;33m=\u001b[0m \u001b[0mself\u001b[0m\u001b[1;33m.\u001b[0m\u001b[0m_get_level_indexer\u001b[0m\u001b[1;33m(\u001b[0m\u001b[0mkey\u001b[0m\u001b[1;33m,\u001b[0m \u001b[0mlevel\u001b[0m\u001b[1;33m=\u001b[0m\u001b[0mlevel\u001b[0m\u001b[1;33m)\u001b[0m\u001b[1;33m\u001b[0m\u001b[1;33m\u001b[0m\u001b[0m\n\u001b[0m\u001b[0;32m   3113\u001b[0m             \u001b[1;32mreturn\u001b[0m \u001b[0mindexer\u001b[0m\u001b[1;33m,\u001b[0m \u001b[0mmaybe_mi_droplevels\u001b[0m\u001b[1;33m(\u001b[0m\u001b[0mindexer\u001b[0m\u001b[1;33m,\u001b[0m \u001b[1;33m[\u001b[0m\u001b[0mlevel\u001b[0m\u001b[1;33m]\u001b[0m\u001b[1;33m,\u001b[0m \u001b[0mdrop_level\u001b[0m\u001b[1;33m)\u001b[0m\u001b[1;33m\u001b[0m\u001b[1;33m\u001b[0m\u001b[0m\n\u001b[0;32m   3114\u001b[0m \u001b[1;33m\u001b[0m\u001b[0m\n",
      "\u001b[1;32m~\\anaconda3\\lib\\site-packages\\pandas\\core\\indexes\\multi.py\u001b[0m in \u001b[0;36m_get_level_indexer\u001b[1;34m(self, key, level, indexer)\u001b[0m\n\u001b[0;32m   3202\u001b[0m         \u001b[1;32melse\u001b[0m\u001b[1;33m:\u001b[0m\u001b[1;33m\u001b[0m\u001b[1;33m\u001b[0m\u001b[0m\n\u001b[0;32m   3203\u001b[0m \u001b[1;33m\u001b[0m\u001b[0m\n\u001b[1;32m-> 3204\u001b[1;33m             \u001b[0midx\u001b[0m \u001b[1;33m=\u001b[0m \u001b[0mself\u001b[0m\u001b[1;33m.\u001b[0m\u001b[0m_get_loc_single_level_index\u001b[0m\u001b[1;33m(\u001b[0m\u001b[0mlevel_index\u001b[0m\u001b[1;33m,\u001b[0m \u001b[0mkey\u001b[0m\u001b[1;33m)\u001b[0m\u001b[1;33m\u001b[0m\u001b[1;33m\u001b[0m\u001b[0m\n\u001b[0m\u001b[0;32m   3205\u001b[0m \u001b[1;33m\u001b[0m\u001b[0m\n\u001b[0;32m   3206\u001b[0m             \u001b[1;32mif\u001b[0m \u001b[0mlevel\u001b[0m \u001b[1;33m>\u001b[0m \u001b[1;36m0\u001b[0m \u001b[1;32mor\u001b[0m \u001b[0mself\u001b[0m\u001b[1;33m.\u001b[0m\u001b[0m_lexsort_depth\u001b[0m \u001b[1;33m==\u001b[0m \u001b[1;36m0\u001b[0m\u001b[1;33m:\u001b[0m\u001b[1;33m\u001b[0m\u001b[1;33m\u001b[0m\u001b[0m\n",
      "\u001b[1;32m~\\anaconda3\\lib\\site-packages\\pandas\\core\\indexes\\multi.py\u001b[0m in \u001b[0;36m_get_loc_single_level_index\u001b[1;34m(self, level_index, key)\u001b[0m\n\u001b[0;32m   2853\u001b[0m             \u001b[1;32mreturn\u001b[0m \u001b[1;33m-\u001b[0m\u001b[1;36m1\u001b[0m\u001b[1;33m\u001b[0m\u001b[1;33m\u001b[0m\u001b[0m\n\u001b[0;32m   2854\u001b[0m         \u001b[1;32melse\u001b[0m\u001b[1;33m:\u001b[0m\u001b[1;33m\u001b[0m\u001b[1;33m\u001b[0m\u001b[0m\n\u001b[1;32m-> 2855\u001b[1;33m             \u001b[1;32mreturn\u001b[0m \u001b[0mlevel_index\u001b[0m\u001b[1;33m.\u001b[0m\u001b[0mget_loc\u001b[0m\u001b[1;33m(\u001b[0m\u001b[0mkey\u001b[0m\u001b[1;33m)\u001b[0m\u001b[1;33m\u001b[0m\u001b[1;33m\u001b[0m\u001b[0m\n\u001b[0m\u001b[0;32m   2856\u001b[0m \u001b[1;33m\u001b[0m\u001b[0m\n\u001b[0;32m   2857\u001b[0m     \u001b[1;32mdef\u001b[0m \u001b[0mget_loc\u001b[0m\u001b[1;33m(\u001b[0m\u001b[0mself\u001b[0m\u001b[1;33m,\u001b[0m \u001b[0mkey\u001b[0m\u001b[1;33m,\u001b[0m \u001b[0mmethod\u001b[0m\u001b[1;33m=\u001b[0m\u001b[1;32mNone\u001b[0m\u001b[1;33m)\u001b[0m\u001b[1;33m:\u001b[0m\u001b[1;33m\u001b[0m\u001b[1;33m\u001b[0m\u001b[0m\n",
      "\u001b[1;32m~\\anaconda3\\lib\\site-packages\\pandas\\core\\indexes\\base.py\u001b[0m in \u001b[0;36mget_loc\u001b[1;34m(self, key, method, tolerance)\u001b[0m\n\u001b[0;32m   3361\u001b[0m                 \u001b[1;32mreturn\u001b[0m \u001b[0mself\u001b[0m\u001b[1;33m.\u001b[0m\u001b[0m_engine\u001b[0m\u001b[1;33m.\u001b[0m\u001b[0mget_loc\u001b[0m\u001b[1;33m(\u001b[0m\u001b[0mcasted_key\u001b[0m\u001b[1;33m)\u001b[0m\u001b[1;33m\u001b[0m\u001b[1;33m\u001b[0m\u001b[0m\n\u001b[0;32m   3362\u001b[0m             \u001b[1;32mexcept\u001b[0m \u001b[0mKeyError\u001b[0m \u001b[1;32mas\u001b[0m \u001b[0merr\u001b[0m\u001b[1;33m:\u001b[0m\u001b[1;33m\u001b[0m\u001b[1;33m\u001b[0m\u001b[0m\n\u001b[1;32m-> 3363\u001b[1;33m                 \u001b[1;32mraise\u001b[0m \u001b[0mKeyError\u001b[0m\u001b[1;33m(\u001b[0m\u001b[0mkey\u001b[0m\u001b[1;33m)\u001b[0m \u001b[1;32mfrom\u001b[0m \u001b[0merr\u001b[0m\u001b[1;33m\u001b[0m\u001b[1;33m\u001b[0m\u001b[0m\n\u001b[0m\u001b[0;32m   3364\u001b[0m \u001b[1;33m\u001b[0m\u001b[0m\n\u001b[0;32m   3365\u001b[0m         \u001b[1;32mif\u001b[0m \u001b[0mis_scalar\u001b[0m\u001b[1;33m(\u001b[0m\u001b[0mkey\u001b[0m\u001b[1;33m)\u001b[0m \u001b[1;32mand\u001b[0m \u001b[0misna\u001b[0m\u001b[1;33m(\u001b[0m\u001b[0mkey\u001b[0m\u001b[1;33m)\u001b[0m \u001b[1;32mand\u001b[0m \u001b[1;32mnot\u001b[0m \u001b[0mself\u001b[0m\u001b[1;33m.\u001b[0m\u001b[0mhasnans\u001b[0m\u001b[1;33m:\u001b[0m\u001b[1;33m\u001b[0m\u001b[1;33m\u001b[0m\u001b[0m\n",
      "\u001b[1;31mKeyError\u001b[0m: -62"
     ]
    }
   ],
   "source": [
    "sellers, buyers = get_new_agents()\n",
    "\n",
    "for _ in tqdm(range(10)):\n",
    "    sellers, buyers = play_round(sellers, buyers, Verbose=True)\n",
    "    \n",
    "# display_history(sellers)"
   ]
  },
  {
   "cell_type": "code",
   "execution_count": null,
   "id": "b4e73041",
   "metadata": {},
   "outputs": [],
   "source": [
    " "
   ]
  },
  {
   "cell_type": "code",
   "execution_count": null,
   "id": "c73fcb9b",
   "metadata": {},
   "outputs": [],
   "source": []
  }
 ],
 "metadata": {
  "kernelspec": {
   "display_name": "Python 3 (ipykernel)",
   "language": "python",
   "name": "python3"
  },
  "language_info": {
   "codemirror_mode": {
    "name": "ipython",
    "version": 3
   },
   "file_extension": ".py",
   "mimetype": "text/x-python",
   "name": "python",
   "nbconvert_exporter": "python",
   "pygments_lexer": "ipython3",
   "version": "3.8.8"
  },
  "varInspector": {
   "cols": {
    "lenName": 16,
    "lenType": 16,
    "lenVar": 40
   },
   "kernels_config": {
    "python": {
     "delete_cmd_postfix": "",
     "delete_cmd_prefix": "del ",
     "library": "var_list.py",
     "varRefreshCmd": "print(var_dic_list())"
    },
    "r": {
     "delete_cmd_postfix": ") ",
     "delete_cmd_prefix": "rm(",
     "library": "var_list.r",
     "varRefreshCmd": "cat(var_dic_list()) "
    }
   },
   "types_to_exclude": [
    "module",
    "function",
    "builtin_function_or_method",
    "instance",
    "_Feature"
   ],
   "window_display": true
  }
 },
 "nbformat": 4,
 "nbformat_minor": 5
}
