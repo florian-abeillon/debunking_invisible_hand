{
 "cells": [
  {
   "cell_type": "code",
   "execution_count": 2,
   "id": "b21a5cac",
   "metadata": {
    "ExecuteTime": {
     "end_time": "2021-12-05T18:40:51.460958Z",
     "start_time": "2021-12-05T18:40:51.445571Z"
    }
   },
   "outputs": [],
   "source": [
    "import sys\n",
    "sys.path.append(\"../code\")"
   ]
  },
  {
   "cell_type": "code",
   "execution_count": 3,
   "id": "9986de70",
   "metadata": {
    "ExecuteTime": {
     "end_time": "2021-12-05T18:40:52.826060Z",
     "start_time": "2021-12-05T18:40:52.072832Z"
    }
   },
   "outputs": [
    {
     "ename": "ImportError",
     "evalue": "cannot import name 'plot_curiosity' from partially initialized module 'display.display_agents' (most likely due to a circular import) (../code\\display\\display_agents.py)",
     "output_type": "error",
     "traceback": [
      "\u001b[1;31m---------------------------------------------------------------------------\u001b[0m",
      "\u001b[1;31mImportError\u001b[0m                               Traceback (most recent call last)",
      "\u001b[1;32m~\\AppData\\Local\\Temp/ipykernel_13732/1481712362.py\u001b[0m in \u001b[0;36m<module>\u001b[1;34m\u001b[0m\n\u001b[0;32m      3\u001b[0m \u001b[1;32mfrom\u001b[0m \u001b[0mtqdm\u001b[0m\u001b[1;33m.\u001b[0m\u001b[0mnotebook\u001b[0m \u001b[1;32mimport\u001b[0m \u001b[0mtqdm\u001b[0m\u001b[1;33m\u001b[0m\u001b[1;33m\u001b[0m\u001b[0m\n\u001b[0;32m      4\u001b[0m \u001b[1;33m\u001b[0m\u001b[0m\n\u001b[1;32m----> 5\u001b[1;33m \u001b[1;32mfrom\u001b[0m \u001b[0mdisplay\u001b[0m \u001b[1;32mimport\u001b[0m \u001b[1;33m*\u001b[0m\u001b[1;33m\u001b[0m\u001b[1;33m\u001b[0m\u001b[0m\n\u001b[0m\u001b[0;32m      6\u001b[0m \u001b[1;32mfrom\u001b[0m \u001b[0msrc\u001b[0m\u001b[1;33m.\u001b[0m\u001b[0mconstants\u001b[0m \u001b[1;32mimport\u001b[0m \u001b[0mVerbose\u001b[0m\u001b[1;33m,\u001b[0m \u001b[0mNB_ROUNDS\u001b[0m\u001b[1;33m\u001b[0m\u001b[1;33m\u001b[0m\u001b[0m\n\u001b[0;32m      7\u001b[0m \u001b[1;32mfrom\u001b[0m \u001b[0msrc\u001b[0m\u001b[1;33m.\u001b[0m\u001b[0msimulate\u001b[0m \u001b[1;32mimport\u001b[0m \u001b[0mget_new_agents\u001b[0m\u001b[1;33m,\u001b[0m \u001b[0mplay_round\u001b[0m\u001b[1;33m\u001b[0m\u001b[1;33m\u001b[0m\u001b[0m\n",
      "\u001b[1;32m~\\Desktop\\Cours\\ETH\\Fall 2021\\Agent-Based Modeling and Social System Simulation\\debunking_invisible_hand\\code\\display\\__init__.py\u001b[0m in \u001b[0;36m<module>\u001b[1;34m\u001b[0m\n\u001b[1;32m----> 1\u001b[1;33m \u001b[1;32mfrom\u001b[0m \u001b[0mdisplay\u001b[0m\u001b[1;33m.\u001b[0m\u001b[0mdisplay_agents\u001b[0m \u001b[1;32mimport\u001b[0m \u001b[0mplot_avg_curiosity\u001b[0m\u001b[1;33m,\u001b[0m \u001b[0mplot_avg_q_table\u001b[0m\u001b[1;33m\u001b[0m\u001b[1;33m\u001b[0m\u001b[0m\n\u001b[0m\u001b[0;32m      2\u001b[0m from display.display_buyers import (plot_avg_demand_curve,\n\u001b[0;32m      3\u001b[0m                                     \u001b[0mplot_avg_sub_q_tables\u001b[0m\u001b[1;33m,\u001b[0m\u001b[1;33m\u001b[0m\u001b[1;33m\u001b[0m\u001b[0m\n\u001b[0;32m      4\u001b[0m                                     plot_avg_variations_buyers)\n\u001b[0;32m      5\u001b[0m \u001b[1;32mfrom\u001b[0m \u001b[0mdisplay\u001b[0m\u001b[1;33m.\u001b[0m\u001b[0mdisplay_sellers\u001b[0m \u001b[1;32mimport\u001b[0m \u001b[0mplot_avg_variations_sellers\u001b[0m\u001b[1;33m\u001b[0m\u001b[1;33m\u001b[0m\u001b[0m\n",
      "\u001b[1;32m~\\Desktop\\Cours\\ETH\\Fall 2021\\Agent-Based Modeling and Social System Simulation\\debunking_invisible_hand\\code\\display\\display_agents.py\u001b[0m in \u001b[0;36m<module>\u001b[1;34m\u001b[0m\n\u001b[0;32m      5\u001b[0m \u001b[1;32mimport\u001b[0m \u001b[0mnumpy\u001b[0m \u001b[1;32mas\u001b[0m \u001b[0mnp\u001b[0m\u001b[1;33m\u001b[0m\u001b[1;33m\u001b[0m\u001b[0m\n\u001b[0;32m      6\u001b[0m \u001b[1;32mimport\u001b[0m \u001b[0mseaborn\u001b[0m \u001b[1;32mas\u001b[0m \u001b[0msns\u001b[0m\u001b[1;33m\u001b[0m\u001b[1;33m\u001b[0m\u001b[0m\n\u001b[1;32m----> 7\u001b[1;33m \u001b[1;32mfrom\u001b[0m \u001b[0magents\u001b[0m \u001b[1;32mimport\u001b[0m \u001b[0mAgent\u001b[0m\u001b[1;33m\u001b[0m\u001b[1;33m\u001b[0m\u001b[0m\n\u001b[0m\u001b[0;32m      8\u001b[0m \u001b[1;32mfrom\u001b[0m \u001b[0magents\u001b[0m\u001b[1;33m.\u001b[0m\u001b[0mconstants\u001b[0m \u001b[1;32mimport\u001b[0m \u001b[0mCURIOSITY_BUYER\u001b[0m\u001b[1;33m,\u001b[0m \u001b[0mCURIOSITY_SELLER\u001b[0m\u001b[1;33m\u001b[0m\u001b[1;33m\u001b[0m\u001b[0m\n\u001b[0;32m      9\u001b[0m \u001b[1;32mfrom\u001b[0m \u001b[0magents\u001b[0m\u001b[1;33m.\u001b[0m\u001b[0mutils\u001b[0m \u001b[1;32mimport\u001b[0m \u001b[0mget_avg_q_table\u001b[0m\u001b[1;33m\u001b[0m\u001b[1;33m\u001b[0m\u001b[0m\n",
      "\u001b[1;32m~\\Desktop\\Cours\\ETH\\Fall 2021\\Agent-Based Modeling and Social System Simulation\\debunking_invisible_hand\\code\\agents\\__init__.py\u001b[0m in \u001b[0;36m<module>\u001b[1;34m\u001b[0m\n\u001b[0;32m      1\u001b[0m \u001b[1;32mfrom\u001b[0m \u001b[0magents\u001b[0m\u001b[1;33m.\u001b[0m\u001b[0mAgent\u001b[0m \u001b[1;32mimport\u001b[0m \u001b[0mAgent\u001b[0m\u001b[1;33m\u001b[0m\u001b[1;33m\u001b[0m\u001b[0m\n\u001b[1;32m----> 2\u001b[1;33m \u001b[1;32mfrom\u001b[0m \u001b[0magents\u001b[0m\u001b[1;33m.\u001b[0m\u001b[0mBuyer\u001b[0m\u001b[1;33m.\u001b[0m\u001b[0mBuyer\u001b[0m \u001b[1;32mimport\u001b[0m \u001b[0mBuyer\u001b[0m\u001b[1;33m\u001b[0m\u001b[1;33m\u001b[0m\u001b[0m\n\u001b[0m\u001b[0;32m      3\u001b[0m \u001b[1;32mfrom\u001b[0m \u001b[0magents\u001b[0m\u001b[1;33m.\u001b[0m\u001b[0mSeller\u001b[0m\u001b[1;33m.\u001b[0m\u001b[0mSeller\u001b[0m \u001b[1;32mimport\u001b[0m \u001b[0mSeller\u001b[0m\u001b[1;33m\u001b[0m\u001b[1;33m\u001b[0m\u001b[0m\n",
      "\u001b[1;32m~\\Desktop\\Cours\\ETH\\Fall 2021\\Agent-Based Modeling and Social System Simulation\\debunking_invisible_hand\\code\\agents\\Buyer\\Buyer.py\u001b[0m in \u001b[0;36m<module>\u001b[1;34m\u001b[0m\n\u001b[0;32m     12\u001b[0m                               \u001b[0mPRICE_MAX\u001b[0m\u001b[1;33m,\u001b[0m \u001b[0mPRICE_MIN\u001b[0m\u001b[1;33m,\u001b[0m \u001b[0mQTY_MAX\u001b[0m\u001b[1;33m,\u001b[0m\u001b[1;33m\u001b[0m\u001b[1;33m\u001b[0m\u001b[0m\n\u001b[0;32m     13\u001b[0m                               RISK_TOLERANCE_BUYER)\n\u001b[1;32m---> 14\u001b[1;33m \u001b[1;32mfrom\u001b[0m \u001b[0mdisplay\u001b[0m\u001b[1;33m.\u001b[0m\u001b[0mdisplay_agents\u001b[0m \u001b[1;32mimport\u001b[0m \u001b[0mplot_curiosity\u001b[0m\u001b[1;33m\u001b[0m\u001b[1;33m\u001b[0m\u001b[0m\n\u001b[0m\u001b[0;32m     15\u001b[0m from display.display_buyers import (plot_demand_curve, plot_history,\n\u001b[0;32m     16\u001b[0m                                     plot_sub_q_tables, plot_variations_buyers)\n",
      "\u001b[1;31mImportError\u001b[0m: cannot import name 'plot_curiosity' from partially initialized module 'display.display_agents' (most likely due to a circular import) (../code\\display\\display_agents.py)"
     ]
    }
   ],
   "source": [
    "%matplotlib notebook\n",
    "from matplotlib import pyplot as plt\n",
    "from tqdm.notebook import tqdm\n",
    "\n",
    "from display import *\n",
    "from src.constants import Verbose, NB_ROUNDS\n",
    "from src.simulate import get_new_agents, play_round"
   ]
  },
  {
   "cell_type": "code",
   "execution_count": null,
   "id": "30d63a8f",
   "metadata": {
    "ExecuteTime": {
     "end_time": "2021-12-05T18:39:26.800632Z",
     "start_time": "2021-12-05T18:39:22.124960Z"
    }
   },
   "outputs": [],
   "source": [
    "Verbose = False\n",
    "NB_ROUNDS = 50000\n",
    "\n",
    "sellers, buyers = get_new_agents(Verbose=Verbose)\n",
    "\n",
    "for i in tqdm(range(NB_ROUNDS)):\n",
    "    if Verbose:\n",
    "        print(f\"Round {i+1}\\n------{'-'*len(str(i+1))}\\n\")\n",
    "    sellers, buyers = play_round(sellers, buyers, Verbose=Verbose)\n",
    "    if Verbose:\n",
    "        print(\"============\\n\")"
   ]
  },
  {
   "cell_type": "markdown",
   "id": "a069de09",
   "metadata": {},
   "source": [
    "# Sellers"
   ]
  },
  {
   "cell_type": "code",
   "execution_count": null,
   "id": "ca67ad94",
   "metadata": {
    "ExecuteTime": {
     "end_time": "2021-12-05T18:39:26.816393Z",
     "start_time": "2021-12-05T18:39:26.800632Z"
    }
   },
   "outputs": [],
   "source": [
    "seller = sellers[0]"
   ]
  },
  {
   "cell_type": "code",
   "execution_count": null,
   "id": "1d5c65a4",
   "metadata": {
    "ExecuteTime": {
     "end_time": "2021-12-05T18:39:26.832011Z",
     "start_time": "2021-12-05T18:39:26.816393Z"
    }
   },
   "outputs": [],
   "source": [
    "# with plt.ioff():\n",
    "#     seller.plot_price()\n",
    "#     seller.plot_qty()\n",
    "#     seller.plot_sales()\n",
    "#     seller.plot_profit()"
   ]
  },
  {
   "cell_type": "code",
   "execution_count": null,
   "id": "e551500d",
   "metadata": {
    "ExecuteTime": {
     "end_time": "2021-12-05T18:39:26.847760Z",
     "start_time": "2021-12-05T18:39:26.832011Z"
    }
   },
   "outputs": [],
   "source": [
    "# with plt.ioff():\n",
    "#     seller.plot_q_table()"
   ]
  },
  {
   "cell_type": "code",
   "execution_count": null,
   "id": "5f944bcd",
   "metadata": {
    "ExecuteTime": {
     "end_time": "2021-12-05T18:39:27.004603Z",
     "start_time": "2021-12-05T18:39:26.879135Z"
    }
   },
   "outputs": [],
   "source": [
    "with plt.ioff():\n",
    "    seller.plot_history()"
   ]
  },
  {
   "cell_type": "code",
   "execution_count": null,
   "id": "8240fb1a",
   "metadata": {
    "ExecuteTime": {
     "end_time": "2021-12-05T18:39:27.412671Z",
     "start_time": "2021-12-05T18:39:27.114357Z"
    },
    "scrolled": false
   },
   "outputs": [],
   "source": [
    "with plt.ioff():\n",
    "    plot_avg_variations_sellers(sellers)"
   ]
  },
  {
   "cell_type": "code",
   "execution_count": null,
   "id": "00fd6a8e",
   "metadata": {
    "ExecuteTime": {
     "end_time": "2021-12-05T18:39:27.648017Z",
     "start_time": "2021-12-05T18:39:27.428290Z"
    }
   },
   "outputs": [],
   "source": [
    "with plt.ioff():\n",
    "    plot_avg_q_table(sellers)"
   ]
  },
  {
   "cell_type": "code",
   "execution_count": null,
   "id": "8cbe8bce",
   "metadata": {
    "ExecuteTime": {
     "end_time": "2021-12-05T18:39:27.789502Z",
     "start_time": "2021-12-05T18:39:27.663606Z"
    }
   },
   "outputs": [],
   "source": [
    "print(\"Possible states:\", seller.get_size_unk())\n",
    "print(\"Current sparsity:\", seller.get_sparsity())\n",
    "with plt.ioff():\n",
    "    plot_avg_curiosity(sellers)"
   ]
  },
  {
   "cell_type": "markdown",
   "id": "e1598890",
   "metadata": {},
   "source": [
    "# Buyers"
   ]
  },
  {
   "cell_type": "code",
   "execution_count": null,
   "id": "e763a0a5",
   "metadata": {
    "ExecuteTime": {
     "end_time": "2021-12-05T18:39:27.805131Z",
     "start_time": "2021-12-05T18:39:27.789502Z"
    }
   },
   "outputs": [],
   "source": [
    "buyer = buyers[0]"
   ]
  },
  {
   "cell_type": "code",
   "execution_count": null,
   "id": "4fbfa9b7",
   "metadata": {
    "ExecuteTime": {
     "end_time": "2021-12-05T18:39:27.820750Z",
     "start_time": "2021-12-05T18:39:27.805131Z"
    }
   },
   "outputs": [],
   "source": [
    "# with plt.ioff():\n",
    "#     buyer.plot_budget()\n",
    "#     buyer.plot_purchases()"
   ]
  },
  {
   "cell_type": "code",
   "execution_count": null,
   "id": "3fb9624b",
   "metadata": {
    "ExecuteTime": {
     "end_time": "2021-12-05T18:39:28.369229Z",
     "start_time": "2021-12-05T18:39:27.820750Z"
    }
   },
   "outputs": [],
   "source": [
    "with plt.ioff():\n",
    "    buyer.plot_history()"
   ]
  },
  {
   "cell_type": "code",
   "execution_count": null,
   "id": "655dbdb1",
   "metadata": {
    "ExecuteTime": {
     "end_time": "2021-12-05T18:39:28.385310Z",
     "start_time": "2021-12-05T18:39:28.369229Z"
    }
   },
   "outputs": [],
   "source": [
    "# plt.ioff()\n",
    "# buyer.plot_sub_q_tables()"
   ]
  },
  {
   "cell_type": "code",
   "execution_count": null,
   "id": "fafcc8ac",
   "metadata": {
    "ExecuteTime": {
     "end_time": "2021-12-05T18:39:28.400935Z",
     "start_time": "2021-12-05T18:39:28.385310Z"
    }
   },
   "outputs": [],
   "source": [
    "# plt.ioff()\n",
    "# slider, update_slider = buyer.plot_demand_curve()\n",
    "# slider.on_changed(update_slider)"
   ]
  },
  {
   "cell_type": "code",
   "execution_count": null,
   "id": "8baf1170",
   "metadata": {
    "ExecuteTime": {
     "end_time": "2021-12-05T18:39:28.714658Z",
     "start_time": "2021-12-05T18:39:28.447801Z"
    },
    "scrolled": false
   },
   "outputs": [],
   "source": [
    "with plt.ioff():\n",
    "    plot_avg_variations_buyers(buyers)"
   ]
  },
  {
   "cell_type": "code",
   "execution_count": null,
   "id": "7333329b",
   "metadata": {
    "ExecuteTime": {
     "end_time": "2021-12-05T18:39:31.246271Z",
     "start_time": "2021-12-05T18:39:28.714658Z"
    },
    "scrolled": false
   },
   "outputs": [],
   "source": [
    "plt.ioff()\n",
    "plot_avg_sub_q_tables(buyers)"
   ]
  },
  {
   "cell_type": "code",
   "execution_count": null,
   "id": "942ca10f",
   "metadata": {
    "ExecuteTime": {
     "end_time": "2021-12-05T18:39:31.419086Z",
     "start_time": "2021-12-05T18:39:31.261858Z"
    }
   },
   "outputs": [],
   "source": [
    "plt.ioff()\n",
    "slider, update_slider = plot_avg_demand_curve(buyers)\n",
    "slider.on_changed(update_slider)"
   ]
  },
  {
   "cell_type": "code",
   "execution_count": null,
   "id": "3325378e",
   "metadata": {
    "ExecuteTime": {
     "end_time": "2021-12-05T18:39:31.654242Z",
     "start_time": "2021-12-05T18:39:31.434674Z"
    }
   },
   "outputs": [],
   "source": [
    "print(\"Possible states:\", seller.get_size_unk())\n",
    "print(\"Current sparsity:\", seller.get_sparsity())\n",
    "with plt.ioff():\n",
    "    plot_avg_curiosity(buyers)"
   ]
  },
  {
   "cell_type": "code",
   "execution_count": null,
   "id": "fc253f9f",
   "metadata": {},
   "outputs": [],
   "source": []
  }
 ],
 "metadata": {
  "kernelspec": {
   "display_name": "Python 3 (ipykernel)",
   "language": "python",
   "name": "python3"
  },
  "language_info": {
   "codemirror_mode": {
    "name": "ipython",
    "version": 3
   },
   "file_extension": ".py",
   "mimetype": "text/x-python",
   "name": "python",
   "nbconvert_exporter": "python",
   "pygments_lexer": "ipython3",
   "version": "3.8.8"
  },
  "varInspector": {
   "cols": {
    "lenName": 16,
    "lenType": 16,
    "lenVar": 40
   },
   "kernels_config": {
    "python": {
     "delete_cmd_postfix": "",
     "delete_cmd_prefix": "del ",
     "library": "var_list.py",
     "varRefreshCmd": "print(var_dic_list())"
    },
    "r": {
     "delete_cmd_postfix": ") ",
     "delete_cmd_prefix": "rm(",
     "library": "var_list.r",
     "varRefreshCmd": "cat(var_dic_list()) "
    }
   },
   "types_to_exclude": [
    "module",
    "function",
    "builtin_function_or_method",
    "instance",
    "_Feature"
   ],
   "window_display": true
  }
 },
 "nbformat": 4,
 "nbformat_minor": 5
}
