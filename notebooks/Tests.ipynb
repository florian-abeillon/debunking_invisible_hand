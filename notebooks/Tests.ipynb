{
 "cells": [
  {
   "cell_type": "code",
   "execution_count": null,
   "id": "b21a5cac",
   "metadata": {
    "ExecuteTime": {
     "end_time": "2021-12-05T18:40:51.460958Z",
     "start_time": "2021-12-05T18:40:51.445571Z"
    }
   },
   "outputs": [],
   "source": [
    "import sys\n",
    "sys.path.append(\"../code\")"
   ]
  },
  {
   "cell_type": "code",
   "execution_count": null,
   "id": "9986de70",
   "metadata": {
    "ExecuteTime": {
     "end_time": "2021-12-05T18:41:33.020049Z",
     "start_time": "2021-12-05T18:41:33.004659Z"
    }
   },
   "outputs": [],
   "source": [
    "%matplotlib notebook\n",
    "from matplotlib import pyplot as plt\n",
    "from tqdm.notebook import tqdm\n",
    "\n",
    "from src.simulate import get_new_agents, play_round\n",
    "from display import *"
   ]
  },
  {
   "cell_type": "code",
   "execution_count": null,
   "id": "30d63a8f",
   "metadata": {
    "ExecuteTime": {
     "end_time": "2021-12-05T18:39:26.800632Z",
     "start_time": "2021-12-05T18:39:22.124960Z"
    }
   },
   "outputs": [],
   "source": [
    "Verbose = False\n",
    "NB_ROUNDS = 50000\n",
    "\n",
    "sellers, buyers = get_new_agents(Verbose=Verbose)\n",
    "\n",
    "for i in tqdm(range(NB_ROUNDS)):\n",
    "    if Verbose:\n",
    "        print(f\"Round {i+1}\\n------{'-'*len(str(i+1))}\\n\")\n",
    "    sellers, buyers = play_round(sellers, buyers, Verbose=Verbose)\n",
    "    if Verbose:\n",
    "        print(\"============\\n\")"
   ]
  },
  {
   "cell_type": "markdown",
   "id": "a069de09",
   "metadata": {},
   "source": [
    "# Sellers"
   ]
  },
  {
   "cell_type": "code",
   "execution_count": null,
   "id": "ca67ad94",
   "metadata": {
    "ExecuteTime": {
     "end_time": "2021-12-05T18:39:26.816393Z",
     "start_time": "2021-12-05T18:39:26.800632Z"
    }
   },
   "outputs": [],
   "source": [
    "seller = sellers[0]"
   ]
  },
  {
   "cell_type": "code",
   "execution_count": null,
   "id": "1d5c65a4",
   "metadata": {
    "ExecuteTime": {
     "end_time": "2021-12-05T18:39:26.832011Z",
     "start_time": "2021-12-05T18:39:26.816393Z"
    }
   },
   "outputs": [],
   "source": [
    "# with plt.ioff():\n",
    "#     seller.plot_price()\n",
    "#     seller.plot_qty()\n",
    "#     seller.plot_sales()\n",
    "#     seller.plot_profit()"
   ]
  },
  {
   "cell_type": "code",
   "execution_count": null,
   "id": "e551500d",
   "metadata": {
    "ExecuteTime": {
     "end_time": "2021-12-05T18:39:26.847760Z",
     "start_time": "2021-12-05T18:39:26.832011Z"
    }
   },
   "outputs": [],
   "source": [
    "# with plt.ioff():\n",
    "#     seller.plot_q_table()"
   ]
  },
  {
   "cell_type": "code",
   "execution_count": null,
   "id": "5f944bcd",
   "metadata": {
    "ExecuteTime": {
     "end_time": "2021-12-05T18:39:27.004603Z",
     "start_time": "2021-12-05T18:39:26.879135Z"
    }
   },
   "outputs": [],
   "source": [
    "with plt.ioff():\n",
    "    seller.plot_history()"
   ]
  },
  {
   "cell_type": "code",
   "execution_count": null,
   "id": "8240fb1a",
   "metadata": {
    "ExecuteTime": {
     "end_time": "2021-12-05T18:39:27.412671Z",
     "start_time": "2021-12-05T18:39:27.114357Z"
    },
    "scrolled": false
   },
   "outputs": [],
   "source": [
    "with plt.ioff():\n",
    "    plot_avg_variations_sellers(sellers)"
   ]
  },
  {
   "cell_type": "code",
   "execution_count": null,
   "id": "00fd6a8e",
   "metadata": {
    "ExecuteTime": {
     "end_time": "2021-12-05T18:39:27.648017Z",
     "start_time": "2021-12-05T18:39:27.428290Z"
    }
   },
   "outputs": [],
   "source": [
    "with plt.ioff():\n",
    "    plot_avg_q_table(sellers)"
   ]
  },
  {
   "cell_type": "code",
   "execution_count": null,
   "id": "8cbe8bce",
   "metadata": {
    "ExecuteTime": {
     "end_time": "2021-12-05T18:39:27.789502Z",
     "start_time": "2021-12-05T18:39:27.663606Z"
    }
   },
   "outputs": [],
   "source": [
    "print(\"Possible states:\", seller.get_size_unk())\n",
    "print(\"Current sparsity:\", seller.get_sparsity())\n",
    "with plt.ioff():\n",
    "    plot_avg_curiosity(sellers)"
   ]
  },
  {
   "cell_type": "markdown",
   "id": "e1598890",
   "metadata": {},
   "source": [
    "# Buyers"
   ]
  },
  {
   "cell_type": "code",
   "execution_count": null,
   "id": "e763a0a5",
   "metadata": {
    "ExecuteTime": {
     "end_time": "2021-12-05T18:39:27.805131Z",
     "start_time": "2021-12-05T18:39:27.789502Z"
    }
   },
   "outputs": [],
   "source": [
    "buyer = buyers[0]"
   ]
  },
  {
   "cell_type": "code",
   "execution_count": null,
   "id": "4fbfa9b7",
   "metadata": {
    "ExecuteTime": {
     "end_time": "2021-12-05T18:39:27.820750Z",
     "start_time": "2021-12-05T18:39:27.805131Z"
    }
   },
   "outputs": [],
   "source": [
    "# with plt.ioff():\n",
    "#     buyer.plot_budget()\n",
    "#     buyer.plot_purchases()"
   ]
  },
  {
   "cell_type": "code",
   "execution_count": null,
   "id": "3fb9624b",
   "metadata": {
    "ExecuteTime": {
     "end_time": "2021-12-05T18:39:28.369229Z",
     "start_time": "2021-12-05T18:39:27.820750Z"
    }
   },
   "outputs": [],
   "source": [
    "with plt.ioff():\n",
    "    buyer.plot_history()"
   ]
  },
  {
   "cell_type": "code",
   "execution_count": null,
   "id": "655dbdb1",
   "metadata": {
    "ExecuteTime": {
     "end_time": "2021-12-05T18:39:28.385310Z",
     "start_time": "2021-12-05T18:39:28.369229Z"
    }
   },
   "outputs": [],
   "source": [
    "# plt.ioff()\n",
    "# buyer.plot_sub_q_tables()"
   ]
  },
  {
   "cell_type": "code",
   "execution_count": null,
   "id": "fafcc8ac",
   "metadata": {
    "ExecuteTime": {
     "end_time": "2021-12-05T18:39:28.400935Z",
     "start_time": "2021-12-05T18:39:28.385310Z"
    }
   },
   "outputs": [],
   "source": [
    "# plt.ioff()\n",
    "# slider, update_slider = buyer.plot_demand_curve()\n",
    "# slider.on_changed(update_slider)"
   ]
  },
  {
   "cell_type": "code",
   "execution_count": null,
   "id": "8baf1170",
   "metadata": {
    "ExecuteTime": {
     "end_time": "2021-12-05T18:39:28.714658Z",
     "start_time": "2021-12-05T18:39:28.447801Z"
    },
    "scrolled": false
   },
   "outputs": [],
   "source": [
    "with plt.ioff():\n",
    "    plot_avg_variations_buyers(buyers)"
   ]
  },
  {
   "cell_type": "code",
   "execution_count": null,
   "id": "7333329b",
   "metadata": {
    "ExecuteTime": {
     "end_time": "2021-12-05T18:39:31.246271Z",
     "start_time": "2021-12-05T18:39:28.714658Z"
    },
    "scrolled": false
   },
   "outputs": [],
   "source": [
    "plt.ioff()\n",
    "plot_avg_sub_q_tables(buyers)"
   ]
  },
  {
   "cell_type": "code",
   "execution_count": null,
   "id": "942ca10f",
   "metadata": {
    "ExecuteTime": {
     "end_time": "2021-12-05T18:39:31.419086Z",
     "start_time": "2021-12-05T18:39:31.261858Z"
    }
   },
   "outputs": [],
   "source": [
    "plt.ioff()\n",
    "slider, update_slider = plot_avg_demand_curve(buyers)\n",
    "slider.on_changed(update_slider)"
   ]
  },
  {
   "cell_type": "code",
   "execution_count": null,
   "id": "3325378e",
   "metadata": {
    "ExecuteTime": {
     "end_time": "2021-12-05T18:39:31.654242Z",
     "start_time": "2021-12-05T18:39:31.434674Z"
    }
   },
   "outputs": [],
   "source": [
    "print(\"Possible states:\", seller.get_size_unk())\n",
    "print(\"Current sparsity:\", seller.get_sparsity())\n",
    "with plt.ioff():\n",
    "    plot_avg_curiosity(buyers)"
   ]
  },
  {
   "cell_type": "code",
   "execution_count": null,
   "id": "fc253f9f",
   "metadata": {},
   "outputs": [],
   "source": []
  }
 ],
 "metadata": {
  "kernelspec": {
   "display_name": "Python 3 (ipykernel)",
   "language": "python",
   "name": "python3"
  },
  "language_info": {
   "codemirror_mode": {
    "name": "ipython",
    "version": 3
   },
   "file_extension": ".py",
   "mimetype": "text/x-python",
   "name": "python",
   "nbconvert_exporter": "python",
   "pygments_lexer": "ipython3",
   "version": "3.8.8"
  },
  "varInspector": {
   "cols": {
    "lenName": 16,
    "lenType": 16,
    "lenVar": 40
   },
   "kernels_config": {
    "python": {
     "delete_cmd_postfix": "",
     "delete_cmd_prefix": "del ",
     "library": "var_list.py",
     "varRefreshCmd": "print(var_dic_list())"
    },
    "r": {
     "delete_cmd_postfix": ") ",
     "delete_cmd_prefix": "rm(",
     "library": "var_list.r",
     "varRefreshCmd": "cat(var_dic_list()) "
    }
   },
   "types_to_exclude": [
    "module",
    "function",
    "builtin_function_or_method",
    "instance",
    "_Feature"
   ],
   "window_display": true
  }
 },
 "nbformat": 4,
 "nbformat_minor": 5
}
