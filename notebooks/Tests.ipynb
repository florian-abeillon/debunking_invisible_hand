{
 "cells": [
  {
   "cell_type": "markdown",
   "id": "63f10a23",
   "metadata": {},
   "source": [
    "# Prelims"
   ]
  },
  {
   "cell_type": "code",
   "execution_count": 1,
   "id": "b21a5cac",
   "metadata": {
    "ExecuteTime": {
     "end_time": "2021-12-05T20:59:45.510707Z",
     "start_time": "2021-12-05T20:59:45.479060Z"
    }
   },
   "outputs": [],
   "source": [
    "import sys\n",
    "sys.path.append(\"../code\")"
   ]
  },
  {
   "cell_type": "code",
   "execution_count": 2,
   "id": "9986de70",
   "metadata": {
    "ExecuteTime": {
     "end_time": "2021-12-05T20:59:48.145927Z",
     "start_time": "2021-12-05T20:59:45.510707Z"
    }
   },
   "outputs": [],
   "source": [
    "%matplotlib notebook\n",
    "from matplotlib import pyplot as plt\n",
    "from tqdm.notebook import tqdm\n",
    "\n",
    "from src.simulate import get_new_agents, play_round\n",
    "from display import *"
   ]
  },
  {
   "cell_type": "markdown",
   "id": "ff785768",
   "metadata": {},
   "source": [
    "# Simulation"
   ]
  },
  {
   "cell_type": "code",
   "execution_count": 3,
   "id": "709c2cf4",
   "metadata": {
    "ExecuteTime": {
     "end_time": "2021-12-05T20:59:48.161406Z",
     "start_time": "2021-12-05T20:59:48.145927Z"
    }
   },
   "outputs": [],
   "source": [
    "Verbose = False\n",
    "NB_ROUNDS = 25000\n",
    "\n",
    "SAVE = True\n",
    "SAVE_PREFIX = \"low_nb_sellers\""
   ]
  },
  {
   "cell_type": "code",
   "execution_count": null,
   "id": "30d63a8f",
   "metadata": {
    "ExecuteTime": {
     "start_time": "2021-12-05T20:59:45.516Z"
    }
   },
   "outputs": [
    {
     "data": {
      "application/vnd.jupyter.widget-view+json": {
       "model_id": "6c3c2bc8ceb14188ac2d45951accd349",
       "version_major": 2,
       "version_minor": 0
      },
      "text/plain": [
       "  0%|          | 0/25000 [00:00<?, ?it/s]"
      ]
     },
     "metadata": {},
     "output_type": "display_data"
    }
   ],
   "source": [
    "sellers, buyers = get_new_agents(Verbose=Verbose)\n",
    "\n",
    "for i in tqdm(range(NB_ROUNDS)):\n",
    "    if Verbose:\n",
    "        print(f\"Round {i+1}\\n------{'-'*len(str(i+1))}\\n\")\n",
    "    sellers, buyers = play_round(sellers, buyers, Verbose=Verbose)\n",
    "    if Verbose:\n",
    "        print(\"============\\n\")"
   ]
  },
  {
   "cell_type": "markdown",
   "id": "a069de09",
   "metadata": {},
   "source": [
    "# Sellers"
   ]
  },
  {
   "cell_type": "code",
   "execution_count": null,
   "id": "ca67ad94",
   "metadata": {
    "ExecuteTime": {
     "start_time": "2021-12-05T20:59:45.519Z"
    }
   },
   "outputs": [],
   "source": [
    "seller = sellers[0]"
   ]
  },
  {
   "cell_type": "code",
   "execution_count": null,
   "id": "1d5c65a4",
   "metadata": {
    "ExecuteTime": {
     "start_time": "2021-12-05T20:59:45.523Z"
    }
   },
   "outputs": [],
   "source": [
    "# with plt.ioff():\n",
    "#     seller.plot_price()\n",
    "#     seller.plot_qty()\n",
    "#     seller.plot_sales()\n",
    "#     seller.plot_profit()"
   ]
  },
  {
   "cell_type": "code",
   "execution_count": null,
   "id": "e551500d",
   "metadata": {
    "ExecuteTime": {
     "start_time": "2021-12-05T20:59:45.526Z"
    }
   },
   "outputs": [],
   "source": [
    "# with plt.ioff():\n",
    "#     seller.plot_q_table()"
   ]
  },
  {
   "cell_type": "code",
   "execution_count": null,
   "id": "5f944bcd",
   "metadata": {
    "ExecuteTime": {
     "start_time": "2021-12-05T20:59:45.530Z"
    }
   },
   "outputs": [],
   "source": [
    "with plt.ioff():\n",
    "    seller.plot_history(save=SAVE, save_prefix=SAVE_PREFIX, save_suffix=\"seller\")"
   ]
  },
  {
   "cell_type": "code",
   "execution_count": null,
   "id": "8240fb1a",
   "metadata": {
    "ExecuteTime": {
     "start_time": "2021-12-05T20:59:45.536Z"
    },
    "scrolled": false
   },
   "outputs": [],
   "source": [
    "with plt.ioff():\n",
    "    plot_avg_variations_sellers(sellers, save=SAVE, save_prefix=SAVE_PREFIX, save_suffix=\"seller\")"
   ]
  },
  {
   "cell_type": "code",
   "execution_count": null,
   "id": "00fd6a8e",
   "metadata": {
    "ExecuteTime": {
     "start_time": "2021-12-05T20:59:45.540Z"
    }
   },
   "outputs": [],
   "source": [
    "with plt.ioff():\n",
    "    plot_avg_q_table(sellers, save=SAVE, save_prefix=SAVE_PREFIX, save_suffix=\"seller\")"
   ]
  },
  {
   "cell_type": "code",
   "execution_count": null,
   "id": "8cbe8bce",
   "metadata": {
    "ExecuteTime": {
     "start_time": "2021-12-05T20:59:45.544Z"
    }
   },
   "outputs": [],
   "source": [
    "print(\"Possible states:\", seller.get_size_unk())\n",
    "print(\"Current sparsity:\", seller.get_sparsity())\n",
    "with plt.ioff():\n",
    "    plot_avg_curiosity(sellers, save=SAVE, save_prefix=SAVE_PREFIX, save_suffix=\"seller\")"
   ]
  },
  {
   "cell_type": "markdown",
   "id": "e1598890",
   "metadata": {},
   "source": [
    "# Buyers"
   ]
  },
  {
   "cell_type": "code",
   "execution_count": null,
   "id": "e763a0a5",
   "metadata": {
    "ExecuteTime": {
     "start_time": "2021-12-05T20:59:45.547Z"
    }
   },
   "outputs": [],
   "source": [
    "buyer = buyers[0]"
   ]
  },
  {
   "cell_type": "code",
   "execution_count": null,
   "id": "4fbfa9b7",
   "metadata": {
    "ExecuteTime": {
     "start_time": "2021-12-05T20:59:45.551Z"
    }
   },
   "outputs": [],
   "source": [
    "# with plt.ioff():\n",
    "#     buyer.plot_budget()\n",
    "#     buyer.plot_purchases()"
   ]
  },
  {
   "cell_type": "code",
   "execution_count": null,
   "id": "3fb9624b",
   "metadata": {
    "ExecuteTime": {
     "start_time": "2021-12-05T20:59:45.554Z"
    }
   },
   "outputs": [],
   "source": [
    "with plt.ioff():\n",
    "    buyer.plot_history()"
   ]
  },
  {
   "cell_type": "code",
   "execution_count": null,
   "id": "655dbdb1",
   "metadata": {
    "ExecuteTime": {
     "start_time": "2021-12-05T20:59:45.557Z"
    }
   },
   "outputs": [],
   "source": [
    "# plt.ioff()\n",
    "# buyer.plot_sub_q_tables()"
   ]
  },
  {
   "cell_type": "code",
   "execution_count": null,
   "id": "fafcc8ac",
   "metadata": {
    "ExecuteTime": {
     "start_time": "2021-12-05T20:59:45.561Z"
    }
   },
   "outputs": [],
   "source": [
    "# plt.ioff()\n",
    "# slider, update_slider = buyer.plot_demand_curve()\n",
    "# slider.on_changed(update_slider)"
   ]
  },
  {
   "cell_type": "code",
   "execution_count": null,
   "id": "8baf1170",
   "metadata": {
    "ExecuteTime": {
     "start_time": "2021-12-05T20:59:45.564Z"
    },
    "scrolled": false
   },
   "outputs": [],
   "source": [
    "with plt.ioff():\n",
    "    plot_avg_variations_buyers(buyers, save=SAVE, save_prefix=SAVE_PREFIX, save_suffix='buyer')"
   ]
  },
  {
   "cell_type": "code",
   "execution_count": null,
   "id": "7333329b",
   "metadata": {
    "ExecuteTime": {
     "start_time": "2021-12-05T20:59:45.567Z"
    },
    "scrolled": false
   },
   "outputs": [],
   "source": [
    "plt.ioff()\n",
    "plot_avg_sub_q_tables(buyers)"
   ]
  },
  {
   "cell_type": "code",
   "execution_count": null,
   "id": "942ca10f",
   "metadata": {
    "ExecuteTime": {
     "start_time": "2021-12-05T20:59:45.584Z"
    }
   },
   "outputs": [],
   "source": [
    "plt.ioff()\n",
    "slider, update_slider = plot_avg_demand_curve(buyers)\n",
    "slider.on_changed(update_slider)"
   ]
  },
  {
   "cell_type": "code",
   "execution_count": null,
   "id": "3325378e",
   "metadata": {
    "ExecuteTime": {
     "start_time": "2021-12-05T20:59:45.595Z"
    }
   },
   "outputs": [],
   "source": [
    "print(\"Possible states:\", seller.get_size_unk())\n",
    "print(\"Current sparsity:\", seller.get_sparsity())\n",
    "with plt.ioff():\n",
    "    plot_avg_curiosity(buyers, save=SAVE, save_prefix=SAVE_PREFIX, save_name_suffix='buyer')"
   ]
  },
  {
   "cell_type": "code",
   "execution_count": null,
   "id": "fc253f9f",
   "metadata": {},
   "outputs": [],
   "source": []
  }
 ],
 "metadata": {
  "kernelspec": {
   "display_name": "Python 3 (ipykernel)",
   "language": "python",
   "name": "python3"
  },
  "language_info": {
   "codemirror_mode": {
    "name": "ipython",
    "version": 3
   },
   "file_extension": ".py",
   "mimetype": "text/x-python",
   "name": "python",
   "nbconvert_exporter": "python",
   "pygments_lexer": "ipython3",
   "version": "3.8.8"
  },
  "varInspector": {
   "cols": {
    "lenName": 16,
    "lenType": 16,
    "lenVar": 40
   },
   "kernels_config": {
    "python": {
     "delete_cmd_postfix": "",
     "delete_cmd_prefix": "del ",
     "library": "var_list.py",
     "varRefreshCmd": "print(var_dic_list())"
    },
    "r": {
     "delete_cmd_postfix": ") ",
     "delete_cmd_prefix": "rm(",
     "library": "var_list.r",
     "varRefreshCmd": "cat(var_dic_list()) "
    }
   },
   "types_to_exclude": [
    "module",
    "function",
    "builtin_function_or_method",
    "instance",
    "_Feature"
   ],
   "window_display": true
  }
 },
 "nbformat": 4,
 "nbformat_minor": 5
}
